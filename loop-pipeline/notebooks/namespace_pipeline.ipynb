{
 "cells": [
  {
   "cell_type": "code",
   "execution_count": null,
   "id": "dae133cb",
   "metadata": {},
   "outputs": [],
   "source": [
    "\n",
    "def make_predictions(input_data):\n",
    "\n",
    "    output_data = {\"output_data\": \"dummy\"}\n",
    "    return output_data\n"
   ]
  },
  {
   "cell_type": "code",
   "execution_count": null,
   "id": "822c8cd5",
   "metadata": {},
   "outputs": [],
   "source": [
    "from kedro.pipeline.modular_pipeline import pipeline\n",
    "from kedro.pipeline import node"
   ]
  },
  {
   "cell_type": "code",
   "execution_count": null,
   "id": "bd4ca288",
   "metadata": {},
   "outputs": [],
   "source": [
    "base_pipeline = pipeline(\n",
    "    [\n",
    "        node(\n",
    "            func=make_predictions,\n",
    "            inputs={\"input_data\": \"my_input_data\"},\n",
    "            outputs={\n",
    "                \"output_data\": \"my_output_data\"\n",
    "            },  # output is the input of next node\n",
    "        )\n",
    "    ]\n",
    ")"
   ]
  },
  {
   "cell_type": "code",
   "execution_count": null,
   "id": "63a81071",
   "metadata": {},
   "outputs": [
    {
     "data": {
      "text/plain": [
       "Pipeline([\n",
       "Node(make_predictions, {'input_data': 'my_input_data'}, {'output_data': 'my_output_data'}, None)\n",
       "])"
      ]
     },
     "execution_count": null,
     "metadata": {},
     "output_type": "execute_result"
    }
   ],
   "source": [
    "base_pipeline"
   ]
  },
  {
   "cell_type": "code",
   "execution_count": null,
   "id": "277b0215",
   "metadata": {},
   "outputs": [],
   "source": [
    "namespace_node_pipeline = pipeline(\n",
    "    [\n",
    "        node(\n",
    "            func=make_predictions,\n",
    "            inputs={\"input_data\": \"my_input_data\"},\n",
    "            outputs={\n",
    "                \"output_data\": \"my_output_data\"\n",
    "            },  # output is the input of next node\n",
    "        )\n",
    "    ],\n",
    "    namespace=\"namespace_with_nodes\"\n",
    ")"
   ]
  },
  {
   "cell_type": "markdown",
   "id": "2e0f28a9",
   "metadata": {},
   "source": [
    "When namespace is given and the argument is a list of nodes, it append the `prefix` and `inputs` `outputs` work as normal"
   ]
  },
  {
   "cell_type": "code",
   "execution_count": null,
   "id": "a46e111a",
   "metadata": {},
   "outputs": [
    {
     "data": {
      "text/plain": [
       "Pipeline([\n",
       "Node(make_predictions, {'input_data': 'namespace_with_nodes.my_input_data'}, {'output_data': 'namespace_with_nodes.my_output_data'}, None)\n",
       "])"
      ]
     },
     "execution_count": null,
     "metadata": {},
     "output_type": "execute_result"
    }
   ],
   "source": [
    "namespace_node_pipeline"
   ]
  },
  {
   "cell_type": "code",
   "execution_count": null,
   "id": "07fe1b7c",
   "metadata": {},
   "outputs": [],
   "source": [
    "namespace_pipeline = pipeline(\n",
    "    base_pipeline,\n",
    "    namespace=\"namespace_with_pipeline\",\n",
    "    inputs={\"my_input_data\": \"random\"}\n",
    "    \n",
    ")"
   ]
  },
  {
   "cell_type": "code",
   "execution_count": null,
   "id": "2cd593d6",
   "metadata": {},
   "outputs": [
    {
     "data": {
      "text/plain": [
       "Pipeline([\n",
       "Node(make_predictions, {'input_data': 'random'}, {'output_data': 'namespace_with_pipeline.my_output_data'}, None)\n",
       "])"
      ]
     },
     "execution_count": null,
     "metadata": {},
     "output_type": "execute_result"
    }
   ],
   "source": [
    "namespace_pipeline"
   ]
  },
  {
   "cell_type": "code",
   "execution_count": null,
   "id": "5bcff54b",
   "metadata": {},
   "outputs": [],
   "source": [
    "pipeline??"
   ]
  },
  {
   "cell_type": "code",
   "execution_count": null,
   "id": "b9f37d1a",
   "metadata": {},
   "outputs": [],
   "source": []
  }
 ],
 "metadata": {
  "kernelspec": {
   "display_name": "Kedro",
   "language": "python",
   "name": "kedro"
  }
 },
 "nbformat": 4,
 "nbformat_minor": 5
}
