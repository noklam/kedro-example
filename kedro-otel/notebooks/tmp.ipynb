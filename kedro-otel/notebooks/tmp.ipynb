{
 "cells": [
  {
   "cell_type": "code",
   "execution_count": 1,
   "metadata": {},
   "outputs": [
    {
     "name": "stdout",
     "output_type": "stream",
     "text": [
      "The kedro.ipython extension is already loaded. To reload it, use:\n",
      "  %reload_ext kedro.ipython\n"
     ]
    }
   ],
   "source": [
    "%load_ext kedro.ipython"
   ]
  },
  {
   "cell_type": "code",
   "execution_count": 3,
   "metadata": {},
   "outputs": [
    {
     "name": "stdout",
     "output_type": "stream",
     "text": [
      "\u001b[2;36m[09/27/24 00:30:27]\u001b[0m\u001b[2;36m \u001b[0m\u001b[31mWARNING \u001b[0m \u001b[35m/Users/Nok_Lam_Chan/dev/kedro/kedro\u001b[0m \u001b]8;id=59098;file:///Users/Nok_Lam_Chan/miniconda3/envs/kedro/lib/python3.10/warnings.py\u001b\\\u001b[2mwarnings.py\u001b[0m\u001b]8;;\u001b\\\u001b[2m:\u001b[0m\u001b]8;id=833531;file:///Users/Nok_Lam_Chan/miniconda3/envs/kedro/lib/python3.10/warnings.py#109\u001b\\\u001b[2m109\u001b[0m\u001b]8;;\u001b\\\n",
      "\u001b[2;36m                    \u001b[0m         \u001b[35m/ipython/\u001b[0m\u001b[95m__init__.py\u001b[0m:\u001b[1;36m316\u001b[0m:           \u001b[2m               \u001b[0m\n",
      "\u001b[2;36m                    \u001b[0m         UserWarning: This is an             \u001b[2m               \u001b[0m\n",
      "\u001b[2;36m                    \u001b[0m         experimental feature, only Jupyter  \u001b[2m               \u001b[0m\n",
      "\u001b[2;36m                    \u001b[0m         Notebook \u001b[1m(\u001b[0m>\u001b[1;36m7.0\u001b[0m\u001b[1m)\u001b[0m, Jupyter Lab,       \u001b[2m               \u001b[0m\n",
      "\u001b[2;36m                    \u001b[0m         IPython, and VSCode Notebook are    \u001b[2m               \u001b[0m\n",
      "\u001b[2;36m                    \u001b[0m         supported. If you encounter         \u001b[2m               \u001b[0m\n",
      "\u001b[2;36m                    \u001b[0m         unexpected behaviour or would like  \u001b[2m               \u001b[0m\n",
      "\u001b[2;36m                    \u001b[0m         to suggest feature enhancements,    \u001b[2m               \u001b[0m\n",
      "\u001b[2;36m                    \u001b[0m         add it under this github issue      \u001b[2m               \u001b[0m\n",
      "\u001b[2;36m                    \u001b[0m         \u001b[4;94mhttps://github.com/kedro-org/kedro/\u001b[0m \u001b[2m               \u001b[0m\n",
      "\u001b[2;36m                    \u001b[0m         \u001b[4;94missues/3580\u001b[0m                         \u001b[2m               \u001b[0m\n",
      "\u001b[2;36m                    \u001b[0m           \u001b[1;35mwarnings.warn\u001b[0m\u001b[1m(\u001b[0m                    \u001b[2m               \u001b[0m\n",
      "\u001b[2;36m                    \u001b[0m                                             \u001b[2m               \u001b[0m\n",
      "\u001b[2;36m                   \u001b[0m\u001b[2;36m \u001b[0m\u001b[34mINFO    \u001b[0m Loading node definition from        \u001b]8;id=442585;file:///Users/Nok_Lam_Chan/dev/kedro/kedro/ipython/__init__.py\u001b\\\u001b[2m__init__.py\u001b[0m\u001b]8;;\u001b\\\u001b[2m:\u001b[0m\u001b]8;id=210983;file:///Users/Nok_Lam_Chan/dev/kedro/kedro/ipython/__init__.py#357\u001b\\\u001b[2m357\u001b[0m\u001b]8;;\u001b\\\n",
      "\u001b[2;36m                    \u001b[0m         \u001b[35m/Users/Nok_Lam_Chan/dev/kedro/tmp/s\u001b[0m \u001b[2m               \u001b[0m\n",
      "\u001b[2;36m                    \u001b[0m         \u001b[35mpaceflights-pandas/src/spaceflights\u001b[0m \u001b[2m               \u001b[0m\n",
      "\u001b[2;36m                    \u001b[0m         \u001b[35m_pandas/pipelines/data_processing/\u001b[0m\u001b[95mn\u001b[0m \u001b[2m               \u001b[0m\n",
      "\u001b[2;36m                    \u001b[0m         \u001b[95modes.py\u001b[0m                             \u001b[2m               \u001b[0m\n"
     ]
    }
   ],
   "source": [
    "%load_node create_model_input_table_node"
   ]
  },
  {
   "cell_type": "code",
   "execution_count": null,
   "metadata": {},
   "outputs": [],
   "source": []
  }
 ],
 "metadata": {
  "language_info": {
   "name": "python"
  }
 },
 "nbformat": 4,
 "nbformat_minor": 2
}
