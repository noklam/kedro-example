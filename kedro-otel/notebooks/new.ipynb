{
 "cells": [
  {
   "cell_type": "code",
   "execution_count": 1,
   "metadata": {},
   "outputs": [],
   "source": [
    "from execnb.nbio import *\n",
    "from execnb.shell import *\n",
    "from fastcore.utils import *\n"
   ]
  },
  {
   "cell_type": "code",
   "execution_count": 2,
   "metadata": {},
   "outputs": [
    {
     "data": {
      "text/plain": [
       "[{'data': {'text/plain': ['2']},\n",
       "  'metadata': {},\n",
       "  'output_type': 'execute_result',\n",
       "  'execution_count': 1}]"
      ]
     },
     "execution_count": 2,
     "metadata": {},
     "output_type": "execute_result"
    }
   ],
   "source": [
    "s = CaptureShell()\n",
    "s.run('1+1')"
   ]
  },
  {
   "cell_type": "code",
   "execution_count": 5,
   "metadata": {},
   "outputs": [
    {
     "name": "stdout",
     "output_type": "stream",
     "text": [
      "[{'name': 'stdout', 'output_type': 'stream', 'text': ['\\x1b[2;36m[09/27/24 00:30:27]\\x1b[0m\\x1b[2;36m \\x1b[0m\\x1b[31mWARNING \\x1b[0m \\x1b[35m/Users/Nok_Lam_Chan/dev/kedro/kedro\\x1b[0m \\x1b]8;id=59098;file:///Users/Nok_Lam_Chan/miniconda3/envs/kedro/lib/python3.10/warnings.py\\x1b\\\\\\x1b[2mwarnings.py\\x1b[0m\\x1b]8;;\\x1b\\\\\\x1b[2m:\\x1b[0m\\x1b]8;id=833531;file:///Users/Nok_Lam_Chan/miniconda3/envs/kedro/lib/python3.10/warnings.py#109\\x1b\\\\\\x1b[2m109\\x1b[0m\\x1b]8;;\\x1b\\\\\\n', '\\x1b[2;36m                    \\x1b[0m         \\x1b[35m/ipython/\\x1b[0m\\x1b[95m__init__.py\\x1b[0m:\\x1b[1;36m316\\x1b[0m:           \\x1b[2m               \\x1b[0m\\n', '\\x1b[2;36m                    \\x1b[0m         UserWarning: This is an             \\x1b[2m               \\x1b[0m\\n', '\\x1b[2;36m                    \\x1b[0m         experimental feature, only Jupyter  \\x1b[2m               \\x1b[0m\\n', '\\x1b[2;36m                    \\x1b[0m         Notebook \\x1b[1m(\\x1b[0m>\\x1b[1;36m7.0\\x1b[0m\\x1b[1m)\\x1b[0m, Jupyter Lab,       \\x1b[2m               \\x1b[0m\\n', '\\x1b[2;36m                    \\x1b[0m         IPython, and VSCode Notebook are    \\x1b[2m               \\x1b[0m\\n', '\\x1b[2;36m                    \\x1b[0m         supported. If you encounter         \\x1b[2m               \\x1b[0m\\n', '\\x1b[2;36m                    \\x1b[0m         unexpected behaviour or would like  \\x1b[2m               \\x1b[0m\\n', '\\x1b[2;36m                    \\x1b[0m         to suggest feature enhancements,    \\x1b[2m               \\x1b[0m\\n', '\\x1b[2;36m                    \\x1b[0m         add it under this github issue      \\x1b[2m               \\x1b[0m\\n', '\\x1b[2;36m                    \\x1b[0m         \\x1b[4;94mhttps://github.com/kedro-org/kedro/\\x1b[0m \\x1b[2m               \\x1b[0m\\n', '\\x1b[2;36m                    \\x1b[0m         \\x1b[4;94missues/3580\\x1b[0m                         \\x1b[2m               \\x1b[0m\\n', '\\x1b[2;36m                    \\x1b[0m           \\x1b[1;35mwarnings.warn\\x1b[0m\\x1b[1m(\\x1b[0m                    \\x1b[2m               \\x1b[0m\\n', '\\x1b[2;36m                    \\x1b[0m                                             \\x1b[2m               \\x1b[0m\\n', '\\x1b[2;36m                   \\x1b[0m\\x1b[2;36m \\x1b[0m\\x1b[34mINFO    \\x1b[0m Loading node definition from        \\x1b]8;id=442585;file:///Users/Nok_Lam_Chan/dev/kedro/kedro/ipython/__init__.py\\x1b\\\\\\x1b[2m__init__.py\\x1b[0m\\x1b]8;;\\x1b\\\\\\x1b[2m:\\x1b[0m\\x1b]8;id=210983;file:///Users/Nok_Lam_Chan/dev/kedro/kedro/ipython/__init__.py#357\\x1b\\\\\\x1b[2m357\\x1b[0m\\x1b]8;;\\x1b\\\\\\n', '\\x1b[2;36m                    \\x1b[0m         \\x1b[35m/Users/Nok_Lam_Chan/dev/kedro/tmp/s\\x1b[0m \\x1b[2m               \\x1b[0m\\n', '\\x1b[2;36m                    \\x1b[0m         \\x1b[35mpaceflights-pandas/src/spaceflights\\x1b[0m \\x1b[2m               \\x1b[0m\\n', '\\x1b[2;36m                    \\x1b[0m         \\x1b[35m_pandas/pipelines/data_processing/\\x1b[0m\\x1b[95mn\\x1b[0m \\x1b[2m               \\x1b[0m\\n', '\\x1b[2;36m                    \\x1b[0m         \\x1b[95modes.py\\x1b[0m                             \\x1b[2m               \\x1b[0m\\n']}]\n",
      "1\n"
     ]
    }
   ],
   "source": [
    "\n",
    "try:\n",
    "    s.execute('demo.ipynb', 'tmp.ipynb')\n",
    "    print(read_nb('tmp.ipynb').cells[1].outputs)\n",
    "# finally: Path('tmp.ipynb').unlink()\n",
    "finally: print(1)"
   ]
  },
  {
   "cell_type": "code",
   "execution_count": null,
   "metadata": {},
   "outputs": [],
   "source": []
  }
 ],
 "metadata": {
  "language_info": {
   "name": "python"
  }
 },
 "nbformat": 4,
 "nbformat_minor": 2
}
