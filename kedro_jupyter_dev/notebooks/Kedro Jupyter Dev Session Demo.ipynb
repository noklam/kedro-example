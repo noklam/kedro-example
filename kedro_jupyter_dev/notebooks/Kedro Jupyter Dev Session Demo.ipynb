{
 "cells": [
  {
   "cell_type": "code",
   "execution_count": 96,
   "metadata": {},
   "outputs": [],
   "source": [
    "from kedro.framework.hooks import hook_impl\n",
    "from kedro.framework.hooks import get_hook_manager\n",
    "from pprint import pprint\n",
    "from kedro.io import DataCatalog, MemoryDataSet, CachedDataSet\n",
    "from kedro.extras.datasets.pandas import CSVDataSet\n",
    "from kedro.pipeline import node, Pipeline\n",
    "from kedro.runner import SequentialRunner\n",
    "from kedro.pipeline import Pipeline, node\n",
    "import pandas as pd\n",
    "\n",
    "def apply_dict(d):\n",
    "    new_dict = {}\n",
    "    for k, v in d.items():\n",
    "        if isinstance(v, CachedDataSet):\n",
    "            if v._cache.exists():\n",
    "                print(v._cache._data)\n",
    "                new_dict[k] = 'In Memory'\n",
    "            else:\n",
    "                new_dict[k] ='Cache Deleted'\n",
    "        elif v.exists():\n",
    "            new_dict[k] = 'In Memory'\n",
    "    return new_dict\n",
    "\n",
    "\n",
    "class DebugHook:\n",
    "    \"\"\"A hook class for creating a post mortem debugging with the PDB debugger\n",
    "    whenever an error is triggered within a pipeline. The local scope from when the\n",
    "    exception occured is available within this debugging session.\n",
    "    \"\"\"\n",
    "    @hook_impl\n",
    "    def after_node_run(self, node, catalog):\n",
    "        # adding extra behaviour to a single node\n",
    "        print(f\"Finish node {node.name}\")\n",
    "        pprint(f\"Print Catalog {apply_dict(catalog._data_sets)}\")\n",
    "#         pprint(f\"Print Catalog {apply_dict2(lambda x:x.exists(), catalog._data_sets)}\")\n",
    "        print(\"*****************************\")\n",
    "        \n",
    "hook_manager = get_hook_manager()\n",
    "debug_hook = hook_manager.register(DebugHook());"
   ]
  },
  {
   "cell_type": "markdown",
   "metadata": {},
   "source": [
    "# Run Context"
   ]
  },
  {
   "cell_type": "code",
   "execution_count": 97,
   "metadata": {},
   "outputs": [
    {
     "name": "stderr",
     "output_type": "stream",
     "text": [
      "/Users/Nok_Lam_Chan/GitHub/kedro/kedro/framework/context/context.py:32: DeprecationWarning: Accessing pipeline via the context will be deprecated in Kedro 0.18.0.\n",
      "  warn(\n"
     ]
    }
   ],
   "source": [
    "interested_node = context.pipeline.nodes[0]"
   ]
  },
  {
   "cell_type": "code",
   "execution_count": 99,
   "metadata": {
    "collapsed": true
   },
   "outputs": [
    {
     "name": "stdout",
     "output_type": "stream",
     "text": [
      "2022-03-13 22:53:40,242 - root - INFO - ** Kedro project kedro_jupyter_dev\n",
      "2022-03-13 22:53:40,296 - kedro.io.data_catalog - INFO - Loading data from `example_iris_data` (CSVDataSet)...\n",
      "2022-03-13 22:53:40,301 - kedro.io.data_catalog - INFO - Loading data from `params:example_test_data_ratio` (MemoryDataSet)...\n",
      "2022-03-13 22:53:40,302 - kedro.pipeline.node - INFO - Running node: split: split_data([example_iris_data,params:example_test_data_ratio]) -> [example_train_x,example_train_y,example_test_x,example_test_y]\n",
      "Finish node split\n",
      "(\"Print Catalog {'example_iris_data': 'In Memory', 'parameters': 'In Memory', \"\n",
      " \"'params:example_test_data_ratio': 'In Memory', \"\n",
      " \"'params:example_num_train_iter': 'In Memory', \"\n",
      " \"'params:example_learning_rate': 'In Memory'}\")\n",
      "*****************************\n",
      "Finish node split\n",
      "(\"Print Catalog {'example_iris_data': 'In Memory', 'parameters': 'In Memory', \"\n",
      " \"'params:example_test_data_ratio': 'In Memory', \"\n",
      " \"'params:example_num_train_iter': 'In Memory', \"\n",
      " \"'params:example_learning_rate': 'In Memory'}\")\n",
      "*****************************\n",
      "Finish node split\n",
      "(\"Print Catalog {'example_iris_data': 'In Memory', 'parameters': 'In Memory', \"\n",
      " \"'params:example_test_data_ratio': 'In Memory', \"\n",
      " \"'params:example_num_train_iter': 'In Memory', \"\n",
      " \"'params:example_learning_rate': 'In Memory'}\")\n",
      "*****************************\n",
      "Finish node split\n",
      "(\"Print Catalog {'example_iris_data': 'In Memory', 'parameters': 'In Memory', \"\n",
      " \"'params:example_test_data_ratio': 'In Memory', \"\n",
      " \"'params:example_num_train_iter': 'In Memory', \"\n",
      " \"'params:example_learning_rate': 'In Memory'}\")\n",
      "*****************************\n",
      "2022-03-13 22:53:40,312 - kedro.io.data_catalog - INFO - Saving data to `example_train_x` (MemoryDataSet)...\n",
      "2022-03-13 22:53:40,313 - kedro.io.data_catalog - INFO - Saving data to `example_train_y` (MemoryDataSet)...\n",
      "2022-03-13 22:53:40,314 - kedro.io.data_catalog - INFO - Saving data to `example_test_x` (MemoryDataSet)...\n",
      "2022-03-13 22:53:40,314 - kedro.io.data_catalog - INFO - Saving data to `example_test_y` (MemoryDataSet)...\n",
      "2022-03-13 22:53:40,315 - kedro.runner.sequential_runner - INFO - Completed 1 out of 1 tasks\n",
      "2022-03-13 22:53:40,316 - kedro.runner.sequential_runner - INFO - Pipeline execution completed successfully.\n",
      "2022-03-13 22:53:40,317 - kedro.io.data_catalog - INFO - Loading data from `example_test_y` (MemoryDataSet)...\n",
      "2022-03-13 22:53:40,318 - kedro.io.data_catalog - INFO - Loading data from `example_test_x` (MemoryDataSet)...\n",
      "2022-03-13 22:53:40,319 - kedro.io.data_catalog - INFO - Loading data from `example_train_x` (MemoryDataSet)...\n",
      "2022-03-13 22:53:40,320 - kedro.io.data_catalog - INFO - Loading data from `example_train_y` (MemoryDataSet)...\n"
     ]
    },
    {
     "name": "stderr",
     "output_type": "stream",
     "text": [
      "/Users/Nok_Lam_Chan/GitHub/kedro/kedro/framework/context/context.py:583: DeprecationWarning: `kedro.framework.context.KedroContext.run` is now deprecated in favour of `KedroSession.run` and will be removed in Kedro 0.18.0.\n",
      "  warn(\n",
      "/Users/Nok_Lam_Chan/GitHub/kedro/kedro/versioning/journal.py:27: DeprecationWarning: `Journal` is now deprecated and will be removed in Kedro 0.18.0.For more information, please visit https://github.com/kedro-org/kedro/blob/main/RELEASE.md\n",
      "  warnings.warn(\n",
      "/Users/Nok_Lam_Chan/GitHub/kedro/kedro/io/data_catalog.py:189: DeprecationWarning: The transformer API will be deprecated in Kedro 0.18.0.Please use Dataset Hooks to customise the load and save methods.For more information, please visithttps://kedro.readthedocs.io/en/stable/07_extend_kedro/02_hooks.html\n",
      "  warnings.warn(\n"
     ]
    }
   ],
   "source": [
    "res = context.run(to_nodes=[interested_node.name]);"
   ]
  },
  {
   "cell_type": "code",
   "execution_count": null,
   "metadata": {},
   "outputs": [],
   "source": [
    "session."
   ]
  },
  {
   "cell_type": "code",
   "execution_count": 144,
   "metadata": {},
   "outputs": [],
   "source": [
    "context."
   ]
  },
  {
   "cell_type": "code",
   "execution_count": 143,
   "metadata": {},
   "outputs": [],
   "source": [
    "session.run??"
   ]
  },
  {
   "cell_type": "code",
   "execution_count": 136,
   "metadata": {
    "collapsed": true
   },
   "outputs": [
    {
     "name": "stdout",
     "output_type": "stream",
     "text": [
      "2022-03-13 23:27:29,716 - root - INFO - ** Kedro project kedro_jupyter_dev\n",
      "2022-03-13 23:27:29,771 - kedro.io.data_catalog - INFO - Loading data from `example_iris_data` (CSVDataSet)...\n",
      "2022-03-13 23:27:29,779 - kedro.io.data_catalog - INFO - Loading data from `params:example_test_data_ratio` (MemoryDataSet)...\n",
      "2022-03-13 23:27:29,780 - kedro.pipeline.node - INFO - Running node: split: split_data([example_iris_data,params:example_test_data_ratio]) -> [example_train_x,example_train_y,example_test_x,example_test_y]\n",
      "Finish node split\n",
      "(\"Print Catalog {'example_iris_data': 'In Memory', 'parameters': 'In Memory', \"\n",
      " \"'params:example_test_data_ratio': 'In Memory', \"\n",
      " \"'params:example_num_train_iter': 'In Memory', \"\n",
      " \"'params:example_learning_rate': 'In Memory'}\")\n",
      "*****************************\n",
      "Finish node split\n",
      "(\"Print Catalog {'example_iris_data': 'In Memory', 'parameters': 'In Memory', \"\n",
      " \"'params:example_test_data_ratio': 'In Memory', \"\n",
      " \"'params:example_num_train_iter': 'In Memory', \"\n",
      " \"'params:example_learning_rate': 'In Memory'}\")\n",
      "*****************************\n",
      "Finish node split\n",
      "(\"Print Catalog {'example_iris_data': 'In Memory', 'parameters': 'In Memory', \"\n",
      " \"'params:example_test_data_ratio': 'In Memory', \"\n",
      " \"'params:example_num_train_iter': 'In Memory', \"\n",
      " \"'params:example_learning_rate': 'In Memory'}\")\n",
      "*****************************\n",
      "Finish node split\n",
      "(\"Print Catalog {'example_iris_data': 'In Memory', 'parameters': 'In Memory', \"\n",
      " \"'params:example_test_data_ratio': 'In Memory', \"\n",
      " \"'params:example_num_train_iter': 'In Memory', \"\n",
      " \"'params:example_learning_rate': 'In Memory'}\")\n",
      "*****************************\n",
      "2022-03-13 23:27:29,790 - kedro.io.data_catalog - INFO - Saving data to `example_train_x` (MemoryDataSet)...\n",
      "2022-03-13 23:27:29,791 - kedro.io.data_catalog - INFO - Saving data to `example_train_y` (MemoryDataSet)...\n",
      "2022-03-13 23:27:29,792 - kedro.io.data_catalog - INFO - Saving data to `example_test_x` (MemoryDataSet)...\n",
      "2022-03-13 23:27:29,794 - kedro.io.data_catalog - INFO - Saving data to `example_test_y` (MemoryDataSet)...\n",
      "2022-03-13 23:27:29,796 - kedro.runner.sequential_runner - INFO - Completed 1 out of 4 tasks\n",
      "2022-03-13 23:27:29,797 - kedro.io.data_catalog - INFO - Loading data from `example_train_x` (MemoryDataSet)...\n",
      "2022-03-13 23:27:29,797 - kedro.io.data_catalog - INFO - Loading data from `example_train_y` (MemoryDataSet)...\n",
      "2022-03-13 23:27:29,799 - kedro.io.data_catalog - INFO - Loading data from `parameters` (MemoryDataSet)...\n",
      "2022-03-13 23:27:29,800 - kedro.pipeline.node - INFO - Running node: train: train_model([example_train_x,example_train_y,parameters]) -> [example_model]\n"
     ]
    },
    {
     "name": "stderr",
     "output_type": "stream",
     "text": [
      "/Users/Nok_Lam_Chan/GitHub/kedro/kedro/framework/context/context.py:583: DeprecationWarning: `kedro.framework.context.KedroContext.run` is now deprecated in favour of `KedroSession.run` and will be removed in Kedro 0.18.0.\n",
      "  warn(\n",
      "/Users/Nok_Lam_Chan/GitHub/kedro/kedro/versioning/journal.py:27: DeprecationWarning: `Journal` is now deprecated and will be removed in Kedro 0.18.0.For more information, please visit https://github.com/kedro-org/kedro/blob/main/RELEASE.md\n",
      "  warnings.warn(\n",
      "/Users/Nok_Lam_Chan/GitHub/kedro/kedro/io/data_catalog.py:189: DeprecationWarning: The transformer API will be deprecated in Kedro 0.18.0.Please use Dataset Hooks to customise the load and save methods.For more information, please visithttps://kedro.readthedocs.io/en/stable/07_extend_kedro/02_hooks.html\n",
      "  warnings.warn(\n"
     ]
    },
    {
     "name": "stdout",
     "output_type": "stream",
     "text": [
      "Finish node train\n",
      "(\"Print Catalog {'example_iris_data': 'In Memory', 'parameters': 'In Memory', \"\n",
      " \"'params:example_test_data_ratio': 'In Memory', \"\n",
      " \"'params:example_num_train_iter': 'In Memory', \"\n",
      " \"'params:example_learning_rate': 'In Memory', 'example_test_x': 'In Memory', \"\n",
      " \"'example_train_y': 'In Memory', 'example_test_y': 'In Memory', \"\n",
      " \"'example_train_x': 'In Memory'}\")\n",
      "*****************************\n",
      "Finish node train\n",
      "(\"Print Catalog {'example_iris_data': 'In Memory', 'parameters': 'In Memory', \"\n",
      " \"'params:example_test_data_ratio': 'In Memory', \"\n",
      " \"'params:example_num_train_iter': 'In Memory', \"\n",
      " \"'params:example_learning_rate': 'In Memory', 'example_test_x': 'In Memory', \"\n",
      " \"'example_train_y': 'In Memory', 'example_test_y': 'In Memory', \"\n",
      " \"'example_train_x': 'In Memory'}\")\n",
      "*****************************\n",
      "Finish node train\n",
      "(\"Print Catalog {'example_iris_data': 'In Memory', 'parameters': 'In Memory', \"\n",
      " \"'params:example_test_data_ratio': 'In Memory', \"\n",
      " \"'params:example_num_train_iter': 'In Memory', \"\n",
      " \"'params:example_learning_rate': 'In Memory', 'example_test_x': 'In Memory', \"\n",
      " \"'example_train_y': 'In Memory', 'example_test_y': 'In Memory', \"\n",
      " \"'example_train_x': 'In Memory'}\")\n",
      "*****************************\n",
      "Finish node train\n",
      "(\"Print Catalog {'example_iris_data': 'In Memory', 'parameters': 'In Memory', \"\n",
      " \"'params:example_test_data_ratio': 'In Memory', \"\n",
      " \"'params:example_num_train_iter': 'In Memory', \"\n",
      " \"'params:example_learning_rate': 'In Memory', 'example_test_x': 'In Memory', \"\n",
      " \"'example_train_y': 'In Memory', 'example_test_y': 'In Memory', \"\n",
      " \"'example_train_x': 'In Memory'}\")\n",
      "*****************************\n",
      "2022-03-13 23:27:30,173 - kedro.io.data_catalog - INFO - Saving data to `example_model` (MemoryDataSet)...\n",
      "2022-03-13 23:27:30,174 - kedro.runner.sequential_runner - INFO - Completed 2 out of 4 tasks\n",
      "2022-03-13 23:27:30,175 - kedro.io.data_catalog - INFO - Loading data from `example_model` (MemoryDataSet)...\n",
      "2022-03-13 23:27:30,176 - kedro.io.data_catalog - INFO - Loading data from `example_test_x` (MemoryDataSet)...\n",
      "2022-03-13 23:27:30,177 - kedro.pipeline.node - INFO - Running node: predict: predict([example_model,example_test_x]) -> [example_predictions]\n",
      "Finish node predict\n",
      "(\"Print Catalog {'example_iris_data': 'In Memory', 'parameters': 'In Memory', \"\n",
      " \"'params:example_test_data_ratio': 'In Memory', \"\n",
      " \"'params:example_num_train_iter': 'In Memory', \"\n",
      " \"'params:example_learning_rate': 'In Memory', 'example_test_x': 'In Memory', \"\n",
      " \"'example_model': 'In Memory', 'example_test_y': 'In Memory'}\")\n",
      "*****************************\n",
      "Finish node predict\n",
      "(\"Print Catalog {'example_iris_data': 'In Memory', 'parameters': 'In Memory', \"\n",
      " \"'params:example_test_data_ratio': 'In Memory', \"\n",
      " \"'params:example_num_train_iter': 'In Memory', \"\n",
      " \"'params:example_learning_rate': 'In Memory', 'example_test_x': 'In Memory', \"\n",
      " \"'example_model': 'In Memory', 'example_test_y': 'In Memory'}\")\n",
      "*****************************\n",
      "Finish node predict\n",
      "(\"Print Catalog {'example_iris_data': 'In Memory', 'parameters': 'In Memory', \"\n",
      " \"'params:example_test_data_ratio': 'In Memory', \"\n",
      " \"'params:example_num_train_iter': 'In Memory', \"\n",
      " \"'params:example_learning_rate': 'In Memory', 'example_test_x': 'In Memory', \"\n",
      " \"'example_model': 'In Memory', 'example_test_y': 'In Memory'}\")\n",
      "*****************************\n",
      "Finish node predict\n",
      "(\"Print Catalog {'example_iris_data': 'In Memory', 'parameters': 'In Memory', \"\n",
      " \"'params:example_test_data_ratio': 'In Memory', \"\n",
      " \"'params:example_num_train_iter': 'In Memory', \"\n",
      " \"'params:example_learning_rate': 'In Memory', 'example_test_x': 'In Memory', \"\n",
      " \"'example_model': 'In Memory', 'example_test_y': 'In Memory'}\")\n",
      "*****************************\n",
      "2022-03-13 23:27:30,180 - kedro.io.data_catalog - INFO - Saving data to `example_predictions` (MemoryDataSet)...\n",
      "2022-03-13 23:27:30,181 - kedro.runner.sequential_runner - INFO - Completed 3 out of 4 tasks\n",
      "2022-03-13 23:27:30,182 - kedro.io.data_catalog - INFO - Loading data from `example_predictions` (MemoryDataSet)...\n",
      "2022-03-13 23:27:30,183 - kedro.io.data_catalog - INFO - Loading data from `example_test_y` (MemoryDataSet)...\n",
      "2022-03-13 23:27:30,185 - kedro.pipeline.node - INFO - Running node: report: report_accuracy([example_predictions,example_test_y]) -> None\n",
      "2022-03-13 23:27:30,187 - kedro_jupyter_dev.pipelines.data_science.nodes - INFO - Model accuracy on test set: 96.67%\n",
      "Finish node report\n",
      "(\"Print Catalog {'example_iris_data': 'In Memory', 'parameters': 'In Memory', \"\n",
      " \"'params:example_test_data_ratio': 'In Memory', \"\n",
      " \"'params:example_num_train_iter': 'In Memory', \"\n",
      " \"'params:example_learning_rate': 'In Memory', 'example_predictions': 'In \"\n",
      " \"Memory', 'example_test_y': 'In Memory'}\")\n",
      "*****************************\n",
      "Finish node report\n",
      "(\"Print Catalog {'example_iris_data': 'In Memory', 'parameters': 'In Memory', \"\n",
      " \"'params:example_test_data_ratio': 'In Memory', \"\n",
      " \"'params:example_num_train_iter': 'In Memory', \"\n",
      " \"'params:example_learning_rate': 'In Memory', 'example_predictions': 'In \"\n",
      " \"Memory', 'example_test_y': 'In Memory'}\")\n",
      "*****************************\n",
      "Finish node report\n",
      "(\"Print Catalog {'example_iris_data': 'In Memory', 'parameters': 'In Memory', \"\n",
      " \"'params:example_test_data_ratio': 'In Memory', \"\n",
      " \"'params:example_num_train_iter': 'In Memory', \"\n",
      " \"'params:example_learning_rate': 'In Memory', 'example_predictions': 'In \"\n",
      " \"Memory', 'example_test_y': 'In Memory'}\")\n",
      "*****************************\n",
      "Finish node report\n",
      "(\"Print Catalog {'example_iris_data': 'In Memory', 'parameters': 'In Memory', \"\n",
      " \"'params:example_test_data_ratio': 'In Memory', \"\n",
      " \"'params:example_num_train_iter': 'In Memory', \"\n",
      " \"'params:example_learning_rate': 'In Memory', 'example_predictions': 'In \"\n",
      " \"Memory', 'example_test_y': 'In Memory'}\")\n",
      "*****************************\n",
      "2022-03-13 23:27:30,191 - kedro.runner.sequential_runner - INFO - Completed 4 out of 4 tasks\n",
      "2022-03-13 23:27:30,192 - kedro.runner.sequential_runner - INFO - Pipeline execution completed successfully.\n"
     ]
    },
    {
     "data": {
      "text/plain": [
       "{}"
      ]
     },
     "execution_count": 136,
     "metadata": {},
     "output_type": "execute_result"
    }
   ],
   "source": [
    "context.run()"
   ]
  },
  {
   "cell_type": "code",
   "execution_count": 139,
   "metadata": {},
   "outputs": [],
   "source": [
    "context.catalog.datasets=0"
   ]
  },
  {
   "cell_type": "code",
   "execution_count": 140,
   "metadata": {},
   "outputs": [
    {
     "data": {
      "text/plain": [
       "<kedro.io.data_catalog._FrozenDatasets at 0x7f88da7d85e0>"
      ]
     },
     "execution_count": 140,
     "metadata": {},
     "output_type": "execute_result"
    }
   ],
   "source": [
    "context.catalog.datasets"
   ]
  },
  {
   "cell_type": "code",
   "execution_count": 135,
   "metadata": {},
   "outputs": [],
   "source": [
    "catalog = 0"
   ]
  },
  {
   "cell_type": "code",
   "execution_count": 127,
   "metadata": {},
   "outputs": [
    {
     "data": {
      "text/plain": [
       "<kedro.io.data_catalog._FrozenDatasets at 0x7f88e94aaf10>"
      ]
     },
     "execution_count": 127,
     "metadata": {},
     "output_type": "execute_result"
    }
   ],
   "source": [
    "context.catalog.datasets"
   ]
  },
  {
   "cell_type": "code",
   "execution_count": 132,
   "metadata": {},
   "outputs": [],
   "source": [
    "catalog.datasets = 3\n"
   ]
  },
  {
   "cell_type": "code",
   "execution_count": 134,
   "metadata": {},
   "outputs": [
    {
     "data": {
      "text/plain": [
       "3"
      ]
     },
     "execution_count": 134,
     "metadata": {},
     "output_type": "execute_result"
    }
   ],
   "source": [
    "catalog.datasets"
   ]
  },
  {
   "cell_type": "code",
   "execution_count": 129,
   "metadata": {},
   "outputs": [],
   "source": [
    "context.catalog.datasets = 123213"
   ]
  },
  {
   "cell_type": "code",
   "execution_count": 114,
   "metadata": {},
   "outputs": [],
   "source": [
    "context.run_id"
   ]
  },
  {
   "cell_type": "code",
   "execution_count": 106,
   "metadata": {},
   "outputs": [
    {
     "data": {
      "text/plain": [
       "<kedro.io.data_catalog.DataCatalog at 0x7f88da7bcf40>"
      ]
     },
     "execution_count": 106,
     "metadata": {},
     "output_type": "execute_result"
    }
   ],
   "source": [
    "context.catalog"
   ]
  },
  {
   "cell_type": "code",
   "execution_count": 104,
   "metadata": {},
   "outputs": [
    {
     "data": {
      "text/plain": [
       "<kedro.io.data_catalog.DataCatalog at 0x7f89032ac460>"
      ]
     },
     "execution_count": 104,
     "metadata": {},
     "output_type": "execute_result"
    }
   ],
   "source": [
    "context._get_catalog()"
   ]
  },
  {
   "cell_type": "code",
   "execution_count": 102,
   "metadata": {},
   "outputs": [
    {
     "data": {
      "text/plain": [
       "<kedro.extras.datasets.pandas.csv_dataset.CSVDataSet at 0x7f88e88be610>"
      ]
     },
     "execution_count": 102,
     "metadata": {},
     "output_type": "execute_result"
    }
   ],
   "source": [
    "catalog.datasets.example_iris_data"
   ]
  },
  {
   "cell_type": "code",
   "execution_count": 100,
   "metadata": {},
   "outputs": [
    {
     "data": {
      "text/plain": [
       "dict_keys(['example_test_y', 'example_test_x', 'example_train_x', 'example_train_y'])"
      ]
     },
     "execution_count": 100,
     "metadata": {},
     "output_type": "execute_result"
    }
   ],
   "source": [
    "res.keys()"
   ]
  },
  {
   "cell_type": "code",
   "execution_count": 67,
   "metadata": {},
   "outputs": [
    {
     "data": {
      "text/plain": [
       "{'example_test_y':     setosa  versicolor  virginica\n",
       " 0        1           0          0\n",
       " 1        1           0          0\n",
       " 2        0           0          1\n",
       " 3        0           0          1\n",
       " 4        0           1          0\n",
       " 5        0           0          1\n",
       " 6        1           0          0\n",
       " 7        1           0          0\n",
       " 8        0           1          0\n",
       " 9        0           0          1\n",
       " 10       0           1          0\n",
       " 11       0           1          0\n",
       " 12       0           1          0\n",
       " 13       1           0          0\n",
       " 14       0           0          1\n",
       " 15       0           1          0\n",
       " 16       0           1          0\n",
       " 17       0           0          1\n",
       " 18       1           0          0\n",
       " 19       1           0          0\n",
       " 20       0           1          0\n",
       " 21       0           0          1\n",
       " 22       0           1          0\n",
       " 23       1           0          0\n",
       " 24       0           0          1\n",
       " 25       1           0          0\n",
       " 26       1           0          0\n",
       " 27       0           0          1\n",
       " 28       0           0          1\n",
       " 29       0           0          1,\n",
       " 'example_test_x':     sepal_length  sepal_width  petal_length  petal_width\n",
       " 0            5.7          3.8           1.7          0.3\n",
       " 1            5.5          4.2           1.4          0.2\n",
       " 2            6.3          3.3           6.0          2.5\n",
       " 3            6.9          3.1           5.4          2.1\n",
       " 4            5.7          2.6           3.5          1.0\n",
       " 5            6.2          3.4           5.4          2.3\n",
       " 6            4.9          3.1           1.5          0.1\n",
       " 7            5.1          3.5           1.4          0.2\n",
       " 8            5.8          2.7           3.9          1.2\n",
       " 9            6.7          3.0           5.2          2.3\n",
       " 10           6.0          2.2           4.0          1.0\n",
       " 11           5.6          2.7           4.2          1.3\n",
       " 12           6.1          2.8           4.7          1.2\n",
       " 13           5.0          3.5           1.6          0.6\n",
       " 14           7.7          3.0           6.1          2.3\n",
       " 15           6.7          3.1           4.7          1.5\n",
       " 16           5.6          3.0           4.1          1.3\n",
       " 17           7.7          3.8           6.7          2.2\n",
       " 18           5.0          3.2           1.2          0.2\n",
       " 19           5.1          3.7           1.5          0.4\n",
       " 20           6.4          3.2           4.5          1.5\n",
       " 21           6.4          3.2           5.3          2.3\n",
       " 22           6.1          2.9           4.7          1.4\n",
       " 23           4.8          3.4           1.6          0.2\n",
       " 24           6.8          3.0           5.5          2.1\n",
       " 25           4.8          3.1           1.6          0.2\n",
       " 26           4.5          2.3           1.3          0.3\n",
       " 27           6.3          2.5           5.0          1.9\n",
       " 28           7.2          3.0           5.8          1.6\n",
       " 29           6.7          3.3           5.7          2.5,\n",
       " 'example_train_x':      sepal_length  sepal_width  petal_length  petal_width\n",
       " 0             5.5          3.5           1.3          0.2\n",
       " 1             7.0          3.2           4.7          1.4\n",
       " 2             6.9          3.1           4.9          1.5\n",
       " 3             6.3          2.7           4.9          1.8\n",
       " 4             5.1          3.8           1.9          0.4\n",
       " ..            ...          ...           ...          ...\n",
       " 115           5.7          3.0           4.2          1.2\n",
       " 116           6.0          2.2           5.0          1.5\n",
       " 117           4.7          3.2           1.6          0.2\n",
       " 118           5.1          3.8           1.5          0.3\n",
       " 119           4.4          3.2           1.3          0.2\n",
       " \n",
       " [120 rows x 4 columns],\n",
       " 'example_train_y':      setosa  versicolor  virginica\n",
       " 0         1           0          0\n",
       " 1         0           1          0\n",
       " 2         0           1          0\n",
       " 3         0           0          1\n",
       " 4         1           0          0\n",
       " ..      ...         ...        ...\n",
       " 115       0           1          0\n",
       " 116       0           0          1\n",
       " 117       1           0          0\n",
       " 118       1           0          0\n",
       " 119       1           0          0\n",
       " \n",
       " [120 rows x 3 columns]}"
      ]
     },
     "execution_count": 67,
     "metadata": {},
     "output_type": "execute_result"
    }
   ],
   "source": [
    "res"
   ]
  },
  {
   "cell_type": "code",
   "execution_count": 68,
   "metadata": {},
   "outputs": [
    {
     "name": "stderr",
     "output_type": "stream",
     "text": [
      "/Users/Nok_Lam_Chan/GitHub/kedro/kedro/framework/context/context.py:32: DeprecationWarning: Accessing pipeline via the context will be deprecated in Kedro 0.18.0.\n",
      "  warn(\n"
     ]
    },
    {
     "data": {
      "text/plain": [
       "Pipeline([\n",
       "Node(split_data, ['example_iris_data', 'params:example_test_data_ratio'], {'train_x': 'example_train_x', 'train_y': 'example_train_y', 'test_x': 'example_test_x', 'test_y': 'example_test_y'}, 'split'),\n",
       "Node(train_model, ['example_train_x', 'example_train_y', 'parameters'], 'example_model', 'train'),\n",
       "Node(predict, {'model': 'example_model', 'test_x': 'example_test_x'}, 'example_predictions', 'predict'),\n",
       "Node(report_accuracy, ['example_predictions', 'example_test_y'], None, 'report')\n",
       "])"
      ]
     },
     "execution_count": 68,
     "metadata": {},
     "output_type": "execute_result"
    }
   ],
   "source": [
    "context.pipeline"
   ]
  },
  {
   "cell_type": "markdown",
   "metadata": {},
   "source": [
    "The pipeline consists of 4 nodes\n",
    "\n",
    "* split_date\n",
    "* train_model\n",
    "* predict\n",
    "* report_accuracy"
   ]
  },
  {
   "cell_type": "markdown",
   "metadata": {},
   "source": [
    "The accuracy is roughly ~90% before we made any changes."
   ]
  },
  {
   "cell_type": "markdown",
   "metadata": {},
   "source": [
    "# Add some postprocessing "
   ]
  },
  {
   "cell_type": "code",
   "execution_count": 70,
   "metadata": {},
   "outputs": [],
   "source": [
    "res['example_test_x'].loc['sepal_length'] = res['example_test_x']['sepal_length'] * 10"
   ]
  },
  {
   "cell_type": "code",
   "execution_count": 81,
   "metadata": {},
   "outputs": [
    {
     "data": {
      "text/plain": [
       "<kedro.io.data_catalog.DataCatalog at 0x7f88d8d518b0>"
      ]
     },
     "execution_count": 81,
     "metadata": {},
     "output_type": "execute_result"
    }
   ],
   "source": [
    "catalog"
   ]
  },
  {
   "cell_type": "code",
   "execution_count": 82,
   "metadata": {},
   "outputs": [
    {
     "data": {
      "text/plain": [
       "<kedro.io.data_catalog.DataCatalog at 0x7f88d8d518b0>"
      ]
     },
     "execution_count": 82,
     "metadata": {},
     "output_type": "execute_result"
    }
   ],
   "source": [
    "catalog"
   ]
  },
  {
   "cell_type": "code",
   "execution_count": 74,
   "metadata": {},
   "outputs": [
    {
     "data": {
      "text/plain": [
       "['example_iris_data',\n",
       " 'parameters',\n",
       " 'params__example_test_data_ratio',\n",
       " 'params__example_num_train_iter',\n",
       " 'params__example_learning_rate',\n",
       " '__module__',\n",
       " '__doc__',\n",
       " '__init__',\n",
       " '__setattr__',\n",
       " '__dict__',\n",
       " '__weakref__',\n",
       " '__repr__',\n",
       " '__hash__',\n",
       " '__str__',\n",
       " '__getattribute__',\n",
       " '__delattr__',\n",
       " '__lt__',\n",
       " '__le__',\n",
       " '__eq__',\n",
       " '__ne__',\n",
       " '__gt__',\n",
       " '__ge__',\n",
       " '__new__',\n",
       " '__reduce_ex__',\n",
       " '__reduce__',\n",
       " '__subclasshook__',\n",
       " '__init_subclass__',\n",
       " '__format__',\n",
       " '__sizeof__',\n",
       " '__dir__',\n",
       " '__class__']"
      ]
     },
     "execution_count": 74,
     "metadata": {},
     "output_type": "execute_result"
    }
   ],
   "source": [
    "context.catalog.datasets"
   ]
  },
  {
   "cell_type": "code",
   "execution_count": 39,
   "metadata": {
    "scrolled": true
   },
   "outputs": [
    {
     "data": {
      "text/html": [
       "<div>\n",
       "<style scoped>\n",
       "    .dataframe tbody tr th:only-of-type {\n",
       "        vertical-align: middle;\n",
       "    }\n",
       "\n",
       "    .dataframe tbody tr th {\n",
       "        vertical-align: top;\n",
       "    }\n",
       "\n",
       "    .dataframe thead th {\n",
       "        text-align: right;\n",
       "    }\n",
       "</style>\n",
       "<table border=\"1\" class=\"dataframe\">\n",
       "  <thead>\n",
       "    <tr style=\"text-align: right;\">\n",
       "      <th></th>\n",
       "      <th>sepal_length</th>\n",
       "      <th>sepal_width</th>\n",
       "      <th>petal_length</th>\n",
       "      <th>petal_width</th>\n",
       "      <th>species</th>\n",
       "    </tr>\n",
       "  </thead>\n",
       "  <tbody>\n",
       "    <tr>\n",
       "      <th>0</th>\n",
       "      <td>5.1</td>\n",
       "      <td>3.5</td>\n",
       "      <td>1.4</td>\n",
       "      <td>0.2</td>\n",
       "      <td>setosa</td>\n",
       "    </tr>\n",
       "    <tr>\n",
       "      <th>1</th>\n",
       "      <td>4.9</td>\n",
       "      <td>3.0</td>\n",
       "      <td>1.4</td>\n",
       "      <td>0.2</td>\n",
       "      <td>setosa</td>\n",
       "    </tr>\n",
       "    <tr>\n",
       "      <th>2</th>\n",
       "      <td>4.7</td>\n",
       "      <td>3.2</td>\n",
       "      <td>1.3</td>\n",
       "      <td>0.2</td>\n",
       "      <td>setosa</td>\n",
       "    </tr>\n",
       "    <tr>\n",
       "      <th>3</th>\n",
       "      <td>4.6</td>\n",
       "      <td>3.1</td>\n",
       "      <td>1.5</td>\n",
       "      <td>0.2</td>\n",
       "      <td>setosa</td>\n",
       "    </tr>\n",
       "    <tr>\n",
       "      <th>4</th>\n",
       "      <td>5.0</td>\n",
       "      <td>3.6</td>\n",
       "      <td>1.4</td>\n",
       "      <td>0.2</td>\n",
       "      <td>setosa</td>\n",
       "    </tr>\n",
       "    <tr>\n",
       "      <th>...</th>\n",
       "      <td>...</td>\n",
       "      <td>...</td>\n",
       "      <td>...</td>\n",
       "      <td>...</td>\n",
       "      <td>...</td>\n",
       "    </tr>\n",
       "    <tr>\n",
       "      <th>145</th>\n",
       "      <td>6.7</td>\n",
       "      <td>3.0</td>\n",
       "      <td>5.2</td>\n",
       "      <td>2.3</td>\n",
       "      <td>virginica</td>\n",
       "    </tr>\n",
       "    <tr>\n",
       "      <th>146</th>\n",
       "      <td>6.3</td>\n",
       "      <td>2.5</td>\n",
       "      <td>5.0</td>\n",
       "      <td>1.9</td>\n",
       "      <td>virginica</td>\n",
       "    </tr>\n",
       "    <tr>\n",
       "      <th>147</th>\n",
       "      <td>6.5</td>\n",
       "      <td>3.0</td>\n",
       "      <td>5.2</td>\n",
       "      <td>2.0</td>\n",
       "      <td>virginica</td>\n",
       "    </tr>\n",
       "    <tr>\n",
       "      <th>148</th>\n",
       "      <td>6.2</td>\n",
       "      <td>3.4</td>\n",
       "      <td>5.4</td>\n",
       "      <td>2.3</td>\n",
       "      <td>virginica</td>\n",
       "    </tr>\n",
       "    <tr>\n",
       "      <th>149</th>\n",
       "      <td>5.9</td>\n",
       "      <td>3.0</td>\n",
       "      <td>5.1</td>\n",
       "      <td>1.8</td>\n",
       "      <td>virginica</td>\n",
       "    </tr>\n",
       "  </tbody>\n",
       "</table>\n",
       "<p>150 rows × 5 columns</p>\n",
       "</div>"
      ],
      "text/plain": [
       "     sepal_length  sepal_width  petal_length  petal_width    species\n",
       "0             5.1          3.5           1.4          0.2     setosa\n",
       "1             4.9          3.0           1.4          0.2     setosa\n",
       "2             4.7          3.2           1.3          0.2     setosa\n",
       "3             4.6          3.1           1.5          0.2     setosa\n",
       "4             5.0          3.6           1.4          0.2     setosa\n",
       "..            ...          ...           ...          ...        ...\n",
       "145           6.7          3.0           5.2          2.3  virginica\n",
       "146           6.3          2.5           5.0          1.9  virginica\n",
       "147           6.5          3.0           5.2          2.0  virginica\n",
       "148           6.2          3.4           5.4          2.3  virginica\n",
       "149           5.9          3.0           5.1          1.8  virginica\n",
       "\n",
       "[150 rows x 5 columns]"
      ]
     },
     "execution_count": 39,
     "metadata": {},
     "output_type": "execute_result"
    }
   ],
   "source": [
    "catalog.datasets.example_iris_data.load()"
   ]
  },
  {
   "cell_type": "markdown",
   "metadata": {},
   "source": [
    "# Note"
   ]
  },
  {
   "cell_type": "code",
   "execution_count": 86,
   "metadata": {},
   "outputs": [
    {
     "data": {
      "text/plain": [
       "<kedro.framework.context.context.KedroContext at 0x7f88e9566460>"
      ]
     },
     "execution_count": 86,
     "metadata": {},
     "output_type": "execute_result"
    }
   ],
   "source": [
    "session.load_context()"
   ]
  },
  {
   "cell_type": "code",
   "execution_count": 84,
   "metadata": {},
   "outputs": [
    {
     "data": {
      "text/plain": [
       "<kedro.framework.context.context.KedroContext at 0x7f89010893d0>"
      ]
     },
     "execution_count": 84,
     "metadata": {},
     "output_type": "execute_result"
    }
   ],
   "source": [
    "context"
   ]
  },
  {
   "cell_type": "markdown",
   "metadata": {},
   "source": [
    "* catalog and context.catalog aren't the same"
   ]
  },
  {
   "cell_type": "code",
   "execution_count": 89,
   "metadata": {},
   "outputs": [
    {
     "data": {
      "text/plain": [
       "<kedro.io.data_catalog.DataCatalog at 0x7f88d8d518b0>"
      ]
     },
     "execution_count": 89,
     "metadata": {},
     "output_type": "execute_result"
    }
   ],
   "source": [
    "catalog"
   ]
  },
  {
   "cell_type": "code",
   "execution_count": 90,
   "metadata": {},
   "outputs": [
    {
     "data": {
      "text/plain": [
       "<kedro.io.data_catalog.DataCatalog at 0x7f89032a2940>"
      ]
     },
     "execution_count": 90,
     "metadata": {},
     "output_type": "execute_result"
    }
   ],
   "source": [
    "context.catalog"
   ]
  },
  {
   "cell_type": "code",
   "execution_count": null,
   "metadata": {},
   "outputs": [],
   "source": []
  }
 ],
 "metadata": {
  "kernelspec": {
   "display_name": "kedro_jupyter_dev",
   "language": "python",
   "name": "python3"
  },
  "language_info": {
   "codemirror_mode": {
    "name": "ipython",
    "version": 3
   },
   "file_extension": ".py",
   "mimetype": "text/x-python",
   "name": "python",
   "nbconvert_exporter": "python",
   "pygments_lexer": "ipython3",
   "version": "3.8.3"
  }
 },
 "nbformat": 4,
 "nbformat_minor": 2
}
