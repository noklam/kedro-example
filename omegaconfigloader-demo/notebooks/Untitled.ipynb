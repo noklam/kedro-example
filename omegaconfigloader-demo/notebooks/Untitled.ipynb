{
 "cells": [
  {
   "cell_type": "code",
   "execution_count": null,
   "id": "2eac7749",
   "metadata": {},
   "outputs": [
    {
     "data": {
      "text/html": [
       "<pre style=\"white-space:pre;overflow-x:auto;line-height:normal;font-family:Menlo,'DejaVu Sans Mono',consolas,'Courier New',monospace\"><span style=\"color: #7fbfbf; text-decoration-color: #7fbfbf\">[02/23/23 23:11:48] </span><span style=\"color: #800000; text-decoration-color: #800000\">WARNING </span> <span style=\"color: #800080; text-decoration-color: #800080\">/Users/Nok_Lam_Chan/miniconda3/envs/kedro_core/lib/python3.8/site-pack</span> <a href=\"file:///Users/Nok_Lam_Chan/miniconda3/envs/kedro_core/lib/python3.8/warnings.py\" target=\"_blank\"><span style=\"color: #7f7f7f; text-decoration-color: #7f7f7f\">warnings.py</span></a><span style=\"color: #7f7f7f; text-decoration-color: #7f7f7f\">:</span><a href=\"file:///Users/Nok_Lam_Chan/miniconda3/envs/kedro_core/lib/python3.8/warnings.py#109\" target=\"_blank\"><span style=\"color: #7f7f7f; text-decoration-color: #7f7f7f\">109</span></a>\n",
       "<span style=\"color: #7fbfbf; text-decoration-color: #7fbfbf\">                    </span>         <span style=\"color: #800080; text-decoration-color: #800080\">ages/IPython/extensions/</span><span style=\"color: #ff00ff; text-decoration-color: #ff00ff\">autoreload.py</span>:<span style=\"color: #008080; text-decoration-color: #008080; font-weight: bold\">121</span>: DeprecationWarning: the imp <span style=\"color: #7f7f7f; text-decoration-color: #7f7f7f\">               </span>\n",
       "<span style=\"color: #7fbfbf; text-decoration-color: #7fbfbf\">                    </span>         module is deprecated in favour of importlib; see the module's          <span style=\"color: #7f7f7f; text-decoration-color: #7f7f7f\">               </span>\n",
       "<span style=\"color: #7fbfbf; text-decoration-color: #7fbfbf\">                    </span>         documentation for alternative uses                                     <span style=\"color: #7f7f7f; text-decoration-color: #7f7f7f\">               </span>\n",
       "<span style=\"color: #7fbfbf; text-decoration-color: #7fbfbf\">                    </span>           from imp import reload                                               <span style=\"color: #7f7f7f; text-decoration-color: #7f7f7f\">               </span>\n",
       "<span style=\"color: #7fbfbf; text-decoration-color: #7fbfbf\">                    </span>                                                                                <span style=\"color: #7f7f7f; text-decoration-color: #7f7f7f\">               </span>\n",
       "</pre>\n"
      ],
      "text/plain": [
       "\u001b[2;36m[02/23/23 23:11:48]\u001b[0m\u001b[2;36m \u001b[0m\u001b[31mWARNING \u001b[0m \u001b[35m/Users/Nok_Lam_Chan/miniconda3/envs/kedro_core/lib/python3.8/site-pack\u001b[0m \u001b]8;id=638009;file:///Users/Nok_Lam_Chan/miniconda3/envs/kedro_core/lib/python3.8/warnings.py\u001b\\\u001b[2mwarnings.py\u001b[0m\u001b]8;;\u001b\\\u001b[2m:\u001b[0m\u001b]8;id=37286;file:///Users/Nok_Lam_Chan/miniconda3/envs/kedro_core/lib/python3.8/warnings.py#109\u001b\\\u001b[2m109\u001b[0m\u001b]8;;\u001b\\\n",
       "\u001b[2;36m                    \u001b[0m         \u001b[35mages/IPython/extensions/\u001b[0m\u001b[95mautoreload.py\u001b[0m:\u001b[1;36m121\u001b[0m: DeprecationWarning: the imp \u001b[2m               \u001b[0m\n",
       "\u001b[2;36m                    \u001b[0m         module is deprecated in favour of importlib; see the module's          \u001b[2m               \u001b[0m\n",
       "\u001b[2;36m                    \u001b[0m         documentation for alternative uses                                     \u001b[2m               \u001b[0m\n",
       "\u001b[2;36m                    \u001b[0m           from imp import reload                                               \u001b[2m               \u001b[0m\n",
       "\u001b[2;36m                    \u001b[0m                                                                                \u001b[2m               \u001b[0m\n"
      ]
     },
     "metadata": {},
     "output_type": "display_data"
    }
   ],
   "source": [
    "%load_ext autoreload\n",
    "%autoreload 2"
   ]
  },
  {
   "cell_type": "code",
   "execution_count": null,
   "id": "ef190172",
   "metadata": {},
   "outputs": [],
   "source": [
    "from omegaconf import OmegaConf\n",
    "from kedro.config import OmegaConfigLoader"
   ]
  },
  {
   "cell_type": "code",
   "execution_count": null,
   "id": "457b9ffc",
   "metadata": {},
   "outputs": [],
   "source": [
    "import pandas as pd"
   ]
  },
  {
   "cell_type": "code",
   "execution_count": null,
   "id": "d873da88",
   "metadata": {},
   "outputs": [
    {
     "data": {
      "text/html": [
       "<pre style=\"white-space:pre;overflow-x:auto;line-height:normal;font-family:Menlo,'DejaVu Sans Mono',consolas,'Courier New',monospace\"><span style=\"color: #7fbfbf; text-decoration-color: #7fbfbf\">[02/23/23 23:12:29] </span><span style=\"color: #800000; text-decoration-color: #800000\">WARNING </span> <span style=\"color: #800080; text-decoration-color: #800080\">/var/folders/dv/bz0yz1dn71d2hygq110k3xhw0000gp/T/ipykernel_35876/</span><span style=\"color: #ff00ff; text-decoration-color: #ff00ff\">38743</span> <a href=\"file:///Users/Nok_Lam_Chan/miniconda3/envs/kedro_core/lib/python3.8/warnings.py\" target=\"_blank\"><span style=\"color: #7f7f7f; text-decoration-color: #7f7f7f\">warnings.py</span></a><span style=\"color: #7f7f7f; text-decoration-color: #7f7f7f\">:</span><a href=\"file:///Users/Nok_Lam_Chan/miniconda3/envs/kedro_core/lib/python3.8/warnings.py#109\" target=\"_blank\"><span style=\"color: #7f7f7f; text-decoration-color: #7f7f7f\">109</span></a>\n",
       "<span style=\"color: #7fbfbf; text-decoration-color: #7fbfbf\">                    </span>         <span style=\"color: #ff00ff; text-decoration-color: #ff00ff\">62433.py</span>:<span style=\"color: #008080; text-decoration-color: #008080; font-weight: bold\">1</span>: FutureWarning: The pandas.datetime class is deprecated and <span style=\"color: #7f7f7f; text-decoration-color: #7f7f7f\">               </span>\n",
       "<span style=\"color: #7fbfbf; text-decoration-color: #7fbfbf\">                    </span>         will be removed from pandas in a future version. Import from datetime  <span style=\"color: #7f7f7f; text-decoration-color: #7f7f7f\">               </span>\n",
       "<span style=\"color: #7fbfbf; text-decoration-color: #7fbfbf\">                    </span>         module instead.                                                        <span style=\"color: #7f7f7f; text-decoration-color: #7f7f7f\">               </span>\n",
       "<span style=\"color: #7fbfbf; text-decoration-color: #7fbfbf\">                    </span>           <span style=\"color: #800080; text-decoration-color: #800080; font-weight: bold\">pd.datetime</span><span style=\"font-weight: bold\">(</span><span style=\"color: #008080; text-decoration-color: #008080; font-weight: bold\">2022</span>,<span style=\"color: #008080; text-decoration-color: #008080; font-weight: bold\">2</span>,<span style=\"color: #008080; text-decoration-color: #008080; font-weight: bold\">23</span><span style=\"font-weight: bold\">)</span>                                               <span style=\"color: #7f7f7f; text-decoration-color: #7f7f7f\">               </span>\n",
       "<span style=\"color: #7fbfbf; text-decoration-color: #7fbfbf\">                    </span>                                                                                <span style=\"color: #7f7f7f; text-decoration-color: #7f7f7f\">               </span>\n",
       "</pre>\n"
      ],
      "text/plain": [
       "\u001b[2;36m[02/23/23 23:12:29]\u001b[0m\u001b[2;36m \u001b[0m\u001b[31mWARNING \u001b[0m \u001b[35m/var/folders/dv/bz0yz1dn71d2hygq110k3xhw0000gp/T/ipykernel_35876/\u001b[0m\u001b[95m38743\u001b[0m \u001b]8;id=293671;file:///Users/Nok_Lam_Chan/miniconda3/envs/kedro_core/lib/python3.8/warnings.py\u001b\\\u001b[2mwarnings.py\u001b[0m\u001b]8;;\u001b\\\u001b[2m:\u001b[0m\u001b]8;id=787152;file:///Users/Nok_Lam_Chan/miniconda3/envs/kedro_core/lib/python3.8/warnings.py#109\u001b\\\u001b[2m109\u001b[0m\u001b]8;;\u001b\\\n",
       "\u001b[2;36m                    \u001b[0m         \u001b[95m62433.py\u001b[0m:\u001b[1;36m1\u001b[0m: FutureWarning: The pandas.datetime class is deprecated and \u001b[2m               \u001b[0m\n",
       "\u001b[2;36m                    \u001b[0m         will be removed from pandas in a future version. Import from datetime  \u001b[2m               \u001b[0m\n",
       "\u001b[2;36m                    \u001b[0m         module instead.                                                        \u001b[2m               \u001b[0m\n",
       "\u001b[2;36m                    \u001b[0m           \u001b[1;35mpd.datetime\u001b[0m\u001b[1m(\u001b[0m\u001b[1;36m2022\u001b[0m,\u001b[1;36m2\u001b[0m,\u001b[1;36m23\u001b[0m\u001b[1m)\u001b[0m                                               \u001b[2m               \u001b[0m\n",
       "\u001b[2;36m                    \u001b[0m                                                                                \u001b[2m               \u001b[0m\n"
      ]
     },
     "metadata": {},
     "output_type": "display_data"
    },
    {
     "data": {
      "text/html": [
       "<pre style=\"white-space:pre;overflow-x:auto;line-height:normal;font-family:Menlo,'DejaVu Sans Mono',consolas,'Courier New',monospace\"><span style=\"color: #800080; text-decoration-color: #800080; font-weight: bold\">datetime.datetime</span><span style=\"font-weight: bold\">(</span><span style=\"color: #008080; text-decoration-color: #008080; font-weight: bold\">2022</span>, <span style=\"color: #008080; text-decoration-color: #008080; font-weight: bold\">2</span>, <span style=\"color: #008080; text-decoration-color: #008080; font-weight: bold\">23</span>, <span style=\"color: #008080; text-decoration-color: #008080; font-weight: bold\">0</span>, <span style=\"color: #008080; text-decoration-color: #008080; font-weight: bold\">0</span><span style=\"font-weight: bold\">)</span>\n",
       "</pre>\n"
      ],
      "text/plain": [
       "\u001b[1;35mdatetime.datetime\u001b[0m\u001b[1m(\u001b[0m\u001b[1;36m2022\u001b[0m, \u001b[1;36m2\u001b[0m, \u001b[1;36m23\u001b[0m, \u001b[1;36m0\u001b[0m, \u001b[1;36m0\u001b[0m\u001b[1m)\u001b[0m\n"
      ]
     },
     "metadata": {},
     "output_type": "display_data"
    }
   ],
   "source": [
    "pd.datetime(2022,2,23)"
   ]
  },
  {
   "cell_type": "code",
   "execution_count": null,
   "id": "9e1d313f",
   "metadata": {},
   "outputs": [],
   "source": [
    "def _add_custom_resolver(self):\n",
    "    OmegaConf.register_new_resolver(\"datetime\", pd_date)"
   ]
  },
  {
   "cell_type": "code",
   "execution_count": null,
   "id": "070a25d7",
   "metadata": {},
   "outputs": [],
   "source": [
    "def pd_datetime(y,m,d):\n",
    "    return pd.datetime(y,m,d)\n",
    "    "
   ]
  },
  {
   "cell_type": "code",
   "execution_count": null,
   "id": "c22d4cb9",
   "metadata": {},
   "outputs": [
    {
     "data": {
      "text/html": [
       "<pre style=\"white-space:pre;overflow-x:auto;line-height:normal;font-family:Menlo,'DejaVu Sans Mono',consolas,'Courier New',monospace\"><span style=\"color: #7fbfbf; text-decoration-color: #7fbfbf\">[02/23/23 23:24:27] </span><span style=\"color: #800000; text-decoration-color: #800000\">WARNING </span> <span style=\"color: #800080; text-decoration-color: #800080\">/var/folders/dv/bz0yz1dn71d2hygq110k3xhw0000gp/T/ipykernel_35876/</span><span style=\"color: #ff00ff; text-decoration-color: #ff00ff\">20646</span> <a href=\"file:///Users/Nok_Lam_Chan/miniconda3/envs/kedro_core/lib/python3.8/warnings.py\" target=\"_blank\"><span style=\"color: #7f7f7f; text-decoration-color: #7f7f7f\">warnings.py</span></a><span style=\"color: #7f7f7f; text-decoration-color: #7f7f7f\">:</span><a href=\"file:///Users/Nok_Lam_Chan/miniconda3/envs/kedro_core/lib/python3.8/warnings.py#109\" target=\"_blank\"><span style=\"color: #7f7f7f; text-decoration-color: #7f7f7f\">109</span></a>\n",
       "<span style=\"color: #7fbfbf; text-decoration-color: #7fbfbf\">                    </span>         <span style=\"color: #ff00ff; text-decoration-color: #ff00ff\">49545.py</span>:<span style=\"color: #008080; text-decoration-color: #008080; font-weight: bold\">2</span>: FutureWarning: The pandas.datetime class is deprecated and <span style=\"color: #7f7f7f; text-decoration-color: #7f7f7f\">               </span>\n",
       "<span style=\"color: #7fbfbf; text-decoration-color: #7fbfbf\">                    </span>         will be removed from pandas in a future version. Import from datetime  <span style=\"color: #7f7f7f; text-decoration-color: #7f7f7f\">               </span>\n",
       "<span style=\"color: #7fbfbf; text-decoration-color: #7fbfbf\">                    </span>         module instead.                                                        <span style=\"color: #7f7f7f; text-decoration-color: #7f7f7f\">               </span>\n",
       "<span style=\"color: #7fbfbf; text-decoration-color: #7fbfbf\">                    </span>           return <span style=\"color: #800080; text-decoration-color: #800080; font-weight: bold\">pd.datetime</span><span style=\"font-weight: bold\">(</span>y,m,d<span style=\"font-weight: bold\">)</span>                                            <span style=\"color: #7f7f7f; text-decoration-color: #7f7f7f\">               </span>\n",
       "<span style=\"color: #7fbfbf; text-decoration-color: #7fbfbf\">                    </span>                                                                                <span style=\"color: #7f7f7f; text-decoration-color: #7f7f7f\">               </span>\n",
       "</pre>\n"
      ],
      "text/plain": [
       "\u001b[2;36m[02/23/23 23:24:27]\u001b[0m\u001b[2;36m \u001b[0m\u001b[31mWARNING \u001b[0m \u001b[35m/var/folders/dv/bz0yz1dn71d2hygq110k3xhw0000gp/T/ipykernel_35876/\u001b[0m\u001b[95m20646\u001b[0m \u001b]8;id=974035;file:///Users/Nok_Lam_Chan/miniconda3/envs/kedro_core/lib/python3.8/warnings.py\u001b\\\u001b[2mwarnings.py\u001b[0m\u001b]8;;\u001b\\\u001b[2m:\u001b[0m\u001b]8;id=382533;file:///Users/Nok_Lam_Chan/miniconda3/envs/kedro_core/lib/python3.8/warnings.py#109\u001b\\\u001b[2m109\u001b[0m\u001b]8;;\u001b\\\n",
       "\u001b[2;36m                    \u001b[0m         \u001b[95m49545.py\u001b[0m:\u001b[1;36m2\u001b[0m: FutureWarning: The pandas.datetime class is deprecated and \u001b[2m               \u001b[0m\n",
       "\u001b[2;36m                    \u001b[0m         will be removed from pandas in a future version. Import from datetime  \u001b[2m               \u001b[0m\n",
       "\u001b[2;36m                    \u001b[0m         module instead.                                                        \u001b[2m               \u001b[0m\n",
       "\u001b[2;36m                    \u001b[0m           return \u001b[1;35mpd.datetime\u001b[0m\u001b[1m(\u001b[0my,m,d\u001b[1m)\u001b[0m                                            \u001b[2m               \u001b[0m\n",
       "\u001b[2;36m                    \u001b[0m                                                                                \u001b[2m               \u001b[0m\n"
      ]
     },
     "metadata": {},
     "output_type": "display_data"
    },
    {
     "data": {
      "text/html": [
       "<pre style=\"white-space:pre;overflow-x:auto;line-height:normal;font-family:Menlo,'DejaVu Sans Mono',consolas,'Courier New',monospace\"><span style=\"color: #800080; text-decoration-color: #800080; font-weight: bold\">datetime.datetime</span><span style=\"font-weight: bold\">(</span><span style=\"color: #008080; text-decoration-color: #008080; font-weight: bold\">2022</span>, <span style=\"color: #008080; text-decoration-color: #008080; font-weight: bold\">2</span>, <span style=\"color: #008080; text-decoration-color: #008080; font-weight: bold\">23</span>, <span style=\"color: #008080; text-decoration-color: #008080; font-weight: bold\">0</span>, <span style=\"color: #008080; text-decoration-color: #008080; font-weight: bold\">0</span><span style=\"font-weight: bold\">)</span>\n",
       "</pre>\n"
      ],
      "text/plain": [
       "\u001b[1;35mdatetime.datetime\u001b[0m\u001b[1m(\u001b[0m\u001b[1;36m2022\u001b[0m, \u001b[1;36m2\u001b[0m, \u001b[1;36m23\u001b[0m, \u001b[1;36m0\u001b[0m, \u001b[1;36m0\u001b[0m\u001b[1m)\u001b[0m\n"
      ]
     },
     "metadata": {},
     "output_type": "display_data"
    }
   ],
   "source": [
    "cfg = OmegaConf.create(\n",
    "    {\n",
    "        \"datetime_config\": \"${datetime:2022,2,23}\",\n",
    "\n",
    "    }\n",
    ")\n",
    "cfg.datetime_config"
   ]
  },
  {
   "cell_type": "code",
   "execution_count": null,
   "id": "fedbb573",
   "metadata": {},
   "outputs": [],
   "source": []
  }
 ],
 "metadata": {
  "kernelspec": {
   "display_name": "Kedro (omegaconfigloader_demo)",
   "language": "python",
   "name": "kedro_omegaconfigloader_demo"
  }
 },
 "nbformat": 4,
 "nbformat_minor": 5
}
