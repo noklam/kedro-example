{
 "cells": [
  {
   "cell_type": "code",
   "execution_count": null,
   "id": "803346c8",
   "metadata": {},
   "outputs": [],
   "source": [
    "from enum import Enum, IntEnum"
   ]
  },
  {
   "cell_type": "code",
   "execution_count": null,
   "id": "e21bc526",
   "metadata": {},
   "outputs": [],
   "source": [
    "JupyterCommandGroupOrder = IntEnum('order', ['init', 'notebook', 'lab','convert'])"
   ]
  },
  {
   "cell_type": "code",
   "execution_count": null,
   "id": "eb0ba087",
   "metadata": {},
   "outputs": [],
   "source": [
    "a = [\"notebook\", \"lab\", \"convert\", \"init\"]"
   ]
  },
  {
   "cell_type": "code",
   "execution_count": null,
   "id": "0ec8cf5f",
   "metadata": {},
   "outputs": [
    {
     "ename": "NameError",
     "evalue": "name 'dd' is not defined",
     "output_type": "error",
     "traceback": [
      "\u001b[0;31m---------------------------------------------------------------------------\u001b[0m",
      "\u001b[0;31mNameError\u001b[0m                                 Traceback (most recent call last)",
      "\u001b[0;32m/var/folders/dv/bz0yz1dn71d2hygq110k3xhw0000gp/T/ipykernel_9184/1465270892.py\u001b[0m in \u001b[0;36m<cell line: 1>\u001b[0;34m()\u001b[0m\n\u001b[0;32m----> 1\u001b[0;31m \u001b[0mdd\u001b[0m\u001b[0;34m\u001b[0m\u001b[0;34m\u001b[0m\u001b[0m\n\u001b[0m",
      "\u001b[0;31mNameError\u001b[0m: name 'dd' is not defined"
     ]
    }
   ],
   "source": [
    "dd"
   ]
  },
  {
   "cell_type": "code",
   "execution_count": null,
   "id": "8f363dce",
   "metadata": {},
   "outputs": [
    {
     "data": {
      "text/plain": [
       "['init', 'notebook', 'lab', 'convert']"
      ]
     },
     "execution_count": null,
     "metadata": {},
     "output_type": "execute_result"
    }
   ],
   "source": [
    "sorted(a, key= lambda x:getattr(JupyterCommandGroupOrder, x))"
   ]
  },
  {
   "cell_type": "code",
   "execution_count": null,
   "id": "9ad4c7a2",
   "metadata": {},
   "outputs": [],
   "source": []
  }
 ],
 "metadata": {
  "kernelspec": {
   "display_name": "Kedro",
   "language": "python",
   "name": "kedro"
  }
 },
 "nbformat": 4,
 "nbformat_minor": 5
}
