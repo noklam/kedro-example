{
 "cells": [
  {
   "cell_type": "code",
   "execution_count": 1,
   "id": "443a6a4b",
   "metadata": {},
   "outputs": [],
   "source": [
    "%load_ext autoreload\n",
    "%autoreload 2\n",
    "\n",
    "from kedro.io import AbstractVersionedDataset\n",
    "import pandas as pd\n",
    "import rich.pretty\n",
    "from iceberg_incremental.datasets import PyIcebergDataset\n",
    "rich.pretty.install()"
   ]
  },
  {
   "cell_type": "code",
   "execution_count": 2,
   "id": "2ac294a0",
   "metadata": {},
   "outputs": [
    {
     "name": "stdout",
     "output_type": "stream",
     "text": [
      "  % Total    % Received % Xferd  Average Speed   Time    Time     Time  Current\n",
      "                                 Dload  Upload   Total   Spent    Left  Speed\n",
      "100 45.4M  100 45.4M    0     0  6196k      0  0:00:07  0:00:07 --:--:-- 9352k\n"
     ]
    }
   ],
   "source": [
    "!curl https://d37ci6vzurychx.cloudfront.net/trip-data/yellow_tripdata_2023-01.parquet -o /tmp/yellow_tripdata_2023-01.parquet"
   ]
  },
  {
   "cell_type": "markdown",
   "id": "bce13433",
   "metadata": {},
   "source": [
    "# First create a table "
   ]
  },
  {
   "cell_type": "code",
   "execution_count": 5,
   "id": "a94e6a59",
   "metadata": {},
   "outputs": [],
   "source": [
    "# Downcast timestamp for compatability https://github.com/apache/iceberg-python/issues/1045#issuecomment-2445205707\n",
    "import os\n",
    "os.environ['PYICEBERG_DOWNCAST_NS_TIMESTAMP_TO_US_ON_WRITE'] = 'true'"
   ]
  },
  {
   "cell_type": "code",
   "execution_count": 8,
   "id": "c61ee544",
   "metadata": {},
   "outputs": [],
   "source": [
    "dataset = PyIcebergDataset(\"taxi_dataset\")\n",
    "df = pd.read_parquet(\"/tmp/yellow_tripdata_2023-01.parquet\")"
   ]
  },
  {
   "cell_type": "code",
   "execution_count": 9,
   "id": "4e13866a",
   "metadata": {},
   "outputs": [
    {
     "name": "stderr",
     "output_type": "stream",
     "text": [
      "Iceberg does not yet support 'ns' timestamp precision. Downcasting to 'us'.\n",
      "Iceberg does not yet support 'ns' timestamp precision. Downcasting to 'us'.\n",
      "Iceberg does not yet support 'ns' timestamp precision. Downcasting to 'us'.\n",
      "Iceberg does not yet support 'ns' timestamp precision. Downcasting to 'us'.\n",
      "/Users/Nok_Lam_Chan/miniconda3/envs/kedro/lib/python3.10/site-packages/pyiceberg/table/__init__.py:558: UserWarning: Delete operation did not match any records\n",
      "  warnings.warn(\"Delete operation did not match any records\")\n",
      "Iceberg does not yet support 'ns' timestamp precision. Downcasting to 'us'.\n",
      "Iceberg does not yet support 'ns' timestamp precision. Downcasting to 'us'.\n",
      "/Users/Nok_Lam_Chan/miniconda3/envs/kedro/lib/python3.10/site-packages/pyiceberg/utils/deprecated.py:54: DeprecationWarning: Deprecated in 0.8.0, will be removed in 0.9.0. Table.identifier property is deprecated. Please use Table.name() function instead.\n",
      "  _deprecation_warning(deprecation_notice(deprecated_in, removed_in, help_message))\n",
      "/Users/Nok_Lam_Chan/miniconda3/envs/kedro/lib/python3.10/site-packages/pyiceberg/utils/deprecated.py:54: DeprecationWarning: Deprecated in 0.8.0, will be removed in 0.9.0. Support for parsing catalog level identifier in Catalog identifiers is deprecated. Please refer to the table using only its namespace and its table name.\n",
      "  _deprecation_warning(deprecation_notice(deprecated_in, removed_in, help_message))\n",
      "/Users/Nok_Lam_Chan/miniconda3/envs/kedro/lib/python3.10/site-packages/pyiceberg/utils/deprecated.py:54: DeprecationWarning: Deprecated in 0.8.0, will be removed in 0.9.0. Table.identifier property is deprecated. Please use Table.name() function instead.\n",
      "  _deprecation_warning(deprecation_notice(deprecated_in, removed_in, help_message))\n"
     ]
    }
   ],
   "source": [
    "dataset.save(df)"
   ]
  },
  {
   "cell_type": "markdown",
   "id": "c7bf0c54",
   "metadata": {},
   "source": [
    "If the table does not exists, the dataset will create an Iceberg table automatically. One way to verify this is using the `pyiceberg` CLI.\n",
    "\n",
    "The uri is hard coded as `sqlite:///tmp/warehouse/pyiceberg_catalog.db\". Normally you would not do this but this make the Iceberg table transparent within the directory for inspection."
   ]
  },
  {
   "cell_type": "code",
   "execution_count": 10,
   "id": "80a3ad98",
   "metadata": {},
   "outputs": [],
   "source": [
    "uri = \"sqlite:///tmp/warehouse/pyiceberg_catalog.db\""
   ]
  },
  {
   "cell_type": "markdown",
   "id": "495fb749",
   "metadata": {},
   "source": [
    "## Using PyIceberg CLI\n",
    "```bash\n",
    "➜  pyiceberg --help\n",
    "Usage: pyiceberg [OPTIONS] COMMAND [ARGS]...\n",
    "\n",
    "Options:\n",
    "--catalog TEXT\n",
    "--verbose BOOLEAN\n",
    "--output [text|json]\n",
    "--ugi TEXT\n",
    "--uri TEXT\n",
    "--credential TEXT\n",
    "--help                Show this message and exit.\n",
    "\n",
    "Commands:\n",
    "describe    Describes a namespace xor table\n",
    "drop        Operations to drop a namespace or table\n",
    "list        Lists tables or namespaces\n",
    "location    Returns the location of the table\n",
    "properties  Properties on tables/namespaces\n",
    "rename      Renames a table\n",
    "schema      Gets the schema of the table\n",
    "spec        Returns the partition spec of the table\n",
    "uuid        Returns the UUID of the table\n",
    "```"
   ]
  },
  {
   "cell_type": "code",
   "execution_count": null,
   "id": "cfb34682",
   "metadata": {},
   "outputs": [
    {
     "name": "stdout",
     "output_type": "stream",
     "text": [
      "/Users/Nok_Lam_Chan/miniconda3/envs/kedro/lib/python3.10/site-packages/pyiceberg/utils/deprecated.py:35: DeprecationWarning: Call to DEFAULT_MIN_SNAPSHOTS_TO_KEEP, deprecated in 0.8.0, will be removed in 0.9.0. DEFAULT_MIN_SNAPSHOTS_TO_KEEP is deprecated. Use TableProperties.MIN_SNAPSHOTS_TO_KEEP_DEFAULT instead..\n",
      "  _deprecation_warning(message)\n",
      "/Users/Nok_Lam_Chan/miniconda3/envs/kedro/lib/python3.10/site-packages/pyiceberg/utils/deprecated.py:35: DeprecationWarning: Call to DEFAULT_MAX_SNAPSHOT_AGE_MS, deprecated in 0.8.0, will be removed in 0.9.0. DEFAULT_MAX_SNAPSHOT_AGE_MS is deprecated. Use TableProperties.MAX_SNAPSHOT_AGE_MS_DEFAULT instead..\n",
      "  _deprecation_warning(message)\n",
      "default\n"
     ]
    }
   ],
   "source": [
    "# List namespace\n",
    "!pyiceberg --uri $uri list"
   ]
  },
  {
   "cell_type": "code",
   "execution_count": null,
   "id": "35ac00ca",
   "metadata": {},
   "outputs": [
    {
     "name": "stdout",
     "output_type": "stream",
     "text": [
      "/Users/Nok_Lam_Chan/miniconda3/envs/kedro/lib/python3.10/site-packages/pyiceberg/utils/deprecated.py:35: DeprecationWarning: Call to DEFAULT_MIN_SNAPSHOTS_TO_KEEP, deprecated in 0.8.0, will be removed in 0.9.0. DEFAULT_MIN_SNAPSHOTS_TO_KEEP is deprecated. Use TableProperties.MIN_SNAPSHOTS_TO_KEEP_DEFAULT instead..\n",
      "  _deprecation_warning(message)\n",
      "/Users/Nok_Lam_Chan/miniconda3/envs/kedro/lib/python3.10/site-packages/pyiceberg/utils/deprecated.py:35: DeprecationWarning: Call to DEFAULT_MAX_SNAPSHOT_AGE_MS, deprecated in 0.8.0, will be removed in 0.9.0. DEFAULT_MAX_SNAPSHOT_AGE_MS is deprecated. Use TableProperties.MAX_SNAPSHOT_AGE_MS_DEFAULT instead..\n",
      "  _deprecation_warning(message)\n",
      "default.taxi_dataset\n"
     ]
    }
   ],
   "source": [
    "# list table inside default namespace\n",
    "!pyiceberg --uri $uri list default"
   ]
  },
  {
   "cell_type": "code",
   "execution_count": 15,
   "id": "5028bd79",
   "metadata": {},
   "outputs": [
    {
     "name": "stdout",
     "output_type": "stream",
     "text": [
      "/Users/Nok_Lam_Chan/miniconda3/envs/kedro/lib/python3.10/site-packages/pyiceberg/utils/deprecated.py:35: DeprecationWarning: Call to DEFAULT_MIN_SNAPSHOTS_TO_KEEP, deprecated in 0.8.0, will be removed in 0.9.0. DEFAULT_MIN_SNAPSHOTS_TO_KEEP is deprecated. Use TableProperties.MIN_SNAPSHOTS_TO_KEEP_DEFAULT instead..\n",
      "  _deprecation_warning(message)\n",
      "/Users/Nok_Lam_Chan/miniconda3/envs/kedro/lib/python3.10/site-packages/pyiceberg/utils/deprecated.py:35: DeprecationWarning: Call to DEFAULT_MAX_SNAPSHOT_AGE_MS, deprecated in 0.8.0, will be removed in 0.9.0. DEFAULT_MAX_SNAPSHOT_AGE_MS is deprecated. Use TableProperties.MAX_SNAPSHOT_AGE_MS_DEFAULT instead..\n",
      "  _deprecation_warning(message)\n",
      "Table format version  2                                                         \n",
      "Metadata location     file://tmp/warehouse/default.db/taxi_dataset/metadata/000…\n",
      "Table UUID            7c224d55-a9ee-4e16-983b-ee3d33b54e19                      \n",
      "Last Updated          1732274297944                                             \n",
      "Partition spec        []                                                        \n",
      "Sort order            []                                                        \n",
      "Current schema        Schema, id=0                                              \n",
      "                      ├── 1: VendorID: optional long                            \n",
      "                      ├── 2: tpep_pickup_datetime: optional timestamp           \n",
      "                      ├── 3: tpep_dropoff_datetime: optional timestamp          \n",
      "                      ├── 4: passenger_count: optional double                   \n",
      "                      ├── 5: trip_distance: optional double                     \n",
      "                      ├── 6: RatecodeID: optional double                        \n",
      "                      ├── 7: store_and_fwd_flag: optional string                \n",
      "                      ├── 8: PULocationID: optional long                        \n",
      "                      ├── 9: DOLocationID: optional long                        \n",
      "                      ├── 10: payment_type: optional long                       \n",
      "                      ├── 11: fare_amount: optional double                      \n",
      "                      ├── 12: extra: optional double                            \n",
      "                      ├── 13: mta_tax: optional double                          \n",
      "                      ├── 14: tip_amount: optional double                       \n",
      "                      ├── 15: tolls_amount: optional double                     \n",
      "                      ├── 16: improvement_surcharge: optional double            \n",
      "                      ├── 17: total_amount: optional double                     \n",
      "                      ├── 18: congestion_surcharge: optional double             \n",
      "                      └── 19: airport_fee: optional double                      \n",
      "Current snapshot      Operation.APPEND: id=7841752524588546086, schema_id=0     \n",
      "Snapshots             Snapshots                                                 \n",
      "                      └── Snapshot 7841752524588546086, schema 0:               \n",
      "                          file://tmp/warehouse/default.db/taxi_dataset/metadata…\n",
      "Properties                                                                      \n"
     ]
    }
   ],
   "source": [
    "!pyiceberg --uri $uri describe default.taxi_dataset"
   ]
  },
  {
   "cell_type": "markdown",
   "id": "63fbf50d",
   "metadata": {},
   "source": [
    "## Load Data"
   ]
  },
  {
   "cell_type": "code",
   "execution_count": 16,
   "id": "8fd39e13",
   "metadata": {},
   "outputs": [],
   "source": [
    "data = dataset.load()"
   ]
  },
  {
   "cell_type": "code",
   "execution_count": 17,
   "id": "8d893d2c",
   "metadata": {},
   "outputs": [
    {
     "data": {
      "text/html": [
       "<pre style=\"white-space:pre;overflow-x:auto;line-height:normal;font-family:Menlo,'DejaVu Sans Mono',consolas,'Courier New',monospace\"></pre>\n"
      ],
      "text/plain": []
     },
     "metadata": {},
     "output_type": "display_data"
    },
    {
     "data": {
      "text/html": [
       "<div>\n",
       "<style scoped>\n",
       "    .dataframe tbody tr th:only-of-type {\n",
       "        vertical-align: middle;\n",
       "    }\n",
       "\n",
       "    .dataframe tbody tr th {\n",
       "        vertical-align: top;\n",
       "    }\n",
       "\n",
       "    .dataframe thead th {\n",
       "        text-align: right;\n",
       "    }\n",
       "</style>\n",
       "<table border=\"1\" class=\"dataframe\">\n",
       "  <thead>\n",
       "    <tr style=\"text-align: right;\">\n",
       "      <th></th>\n",
       "      <th>VendorID</th>\n",
       "      <th>tpep_pickup_datetime</th>\n",
       "      <th>tpep_dropoff_datetime</th>\n",
       "      <th>passenger_count</th>\n",
       "      <th>trip_distance</th>\n",
       "      <th>RatecodeID</th>\n",
       "      <th>store_and_fwd_flag</th>\n",
       "      <th>PULocationID</th>\n",
       "      <th>DOLocationID</th>\n",
       "      <th>payment_type</th>\n",
       "      <th>fare_amount</th>\n",
       "      <th>extra</th>\n",
       "      <th>mta_tax</th>\n",
       "      <th>tip_amount</th>\n",
       "      <th>tolls_amount</th>\n",
       "      <th>improvement_surcharge</th>\n",
       "      <th>total_amount</th>\n",
       "      <th>congestion_surcharge</th>\n",
       "      <th>airport_fee</th>\n",
       "    </tr>\n",
       "  </thead>\n",
       "  <tbody>\n",
       "    <tr>\n",
       "      <th>0</th>\n",
       "      <td>2</td>\n",
       "      <td>2023-01-01 00:32:10</td>\n",
       "      <td>2023-01-01 00:40:36</td>\n",
       "      <td>1.0</td>\n",
       "      <td>0.97</td>\n",
       "      <td>1.0</td>\n",
       "      <td>N</td>\n",
       "      <td>161</td>\n",
       "      <td>141</td>\n",
       "      <td>2</td>\n",
       "      <td>9.3</td>\n",
       "      <td>1.00</td>\n",
       "      <td>0.5</td>\n",
       "      <td>0.00</td>\n",
       "      <td>0.0</td>\n",
       "      <td>1.0</td>\n",
       "      <td>14.30</td>\n",
       "      <td>2.5</td>\n",
       "      <td>0.00</td>\n",
       "    </tr>\n",
       "    <tr>\n",
       "      <th>1</th>\n",
       "      <td>2</td>\n",
       "      <td>2023-01-01 00:55:08</td>\n",
       "      <td>2023-01-01 01:01:27</td>\n",
       "      <td>1.0</td>\n",
       "      <td>1.10</td>\n",
       "      <td>1.0</td>\n",
       "      <td>N</td>\n",
       "      <td>43</td>\n",
       "      <td>237</td>\n",
       "      <td>1</td>\n",
       "      <td>7.9</td>\n",
       "      <td>1.00</td>\n",
       "      <td>0.5</td>\n",
       "      <td>4.00</td>\n",
       "      <td>0.0</td>\n",
       "      <td>1.0</td>\n",
       "      <td>16.90</td>\n",
       "      <td>2.5</td>\n",
       "      <td>0.00</td>\n",
       "    </tr>\n",
       "    <tr>\n",
       "      <th>2</th>\n",
       "      <td>2</td>\n",
       "      <td>2023-01-01 00:25:04</td>\n",
       "      <td>2023-01-01 00:37:49</td>\n",
       "      <td>1.0</td>\n",
       "      <td>2.51</td>\n",
       "      <td>1.0</td>\n",
       "      <td>N</td>\n",
       "      <td>48</td>\n",
       "      <td>238</td>\n",
       "      <td>1</td>\n",
       "      <td>14.9</td>\n",
       "      <td>1.00</td>\n",
       "      <td>0.5</td>\n",
       "      <td>15.00</td>\n",
       "      <td>0.0</td>\n",
       "      <td>1.0</td>\n",
       "      <td>34.90</td>\n",
       "      <td>2.5</td>\n",
       "      <td>0.00</td>\n",
       "    </tr>\n",
       "    <tr>\n",
       "      <th>3</th>\n",
       "      <td>1</td>\n",
       "      <td>2023-01-01 00:03:48</td>\n",
       "      <td>2023-01-01 00:13:25</td>\n",
       "      <td>0.0</td>\n",
       "      <td>1.90</td>\n",
       "      <td>1.0</td>\n",
       "      <td>N</td>\n",
       "      <td>138</td>\n",
       "      <td>7</td>\n",
       "      <td>1</td>\n",
       "      <td>12.1</td>\n",
       "      <td>7.25</td>\n",
       "      <td>0.5</td>\n",
       "      <td>0.00</td>\n",
       "      <td>0.0</td>\n",
       "      <td>1.0</td>\n",
       "      <td>20.85</td>\n",
       "      <td>0.0</td>\n",
       "      <td>1.25</td>\n",
       "    </tr>\n",
       "    <tr>\n",
       "      <th>4</th>\n",
       "      <td>2</td>\n",
       "      <td>2023-01-01 00:10:29</td>\n",
       "      <td>2023-01-01 00:21:19</td>\n",
       "      <td>1.0</td>\n",
       "      <td>1.43</td>\n",
       "      <td>1.0</td>\n",
       "      <td>N</td>\n",
       "      <td>107</td>\n",
       "      <td>79</td>\n",
       "      <td>1</td>\n",
       "      <td>11.4</td>\n",
       "      <td>1.00</td>\n",
       "      <td>0.5</td>\n",
       "      <td>3.28</td>\n",
       "      <td>0.0</td>\n",
       "      <td>1.0</td>\n",
       "      <td>19.68</td>\n",
       "      <td>2.5</td>\n",
       "      <td>0.00</td>\n",
       "    </tr>\n",
       "  </tbody>\n",
       "</table>\n",
       "</div>"
      ],
      "text/plain": [
       "\n",
       "   VendorID tpep_pickup_datetime tpep_dropoff_datetime  passenger_count  \\\n",
       "\u001b[1;36m0\u001b[0m         \u001b[1;36m2\u001b[0m  \u001b[1;36m2023\u001b[0m-\u001b[1;36m01\u001b[0m-\u001b[1;36m01\u001b[0m \u001b[1;92m00:32:10\u001b[0m   \u001b[1;36m2023\u001b[0m-\u001b[1;36m01\u001b[0m-\u001b[1;36m01\u001b[0m \u001b[1;92m00:40:36\u001b[0m              \u001b[1;36m1.0\u001b[0m   \n",
       "\u001b[1;36m1\u001b[0m         \u001b[1;36m2\u001b[0m  \u001b[1;36m2023\u001b[0m-\u001b[1;36m01\u001b[0m-\u001b[1;36m01\u001b[0m \u001b[1;92m00:55:08\u001b[0m   \u001b[1;36m2023\u001b[0m-\u001b[1;36m01\u001b[0m-\u001b[1;36m01\u001b[0m \u001b[1;92m01:01:27\u001b[0m              \u001b[1;36m1.0\u001b[0m   \n",
       "\u001b[1;36m2\u001b[0m         \u001b[1;36m2\u001b[0m  \u001b[1;36m2023\u001b[0m-\u001b[1;36m01\u001b[0m-\u001b[1;36m01\u001b[0m \u001b[1;92m00:25:04\u001b[0m   \u001b[1;36m2023\u001b[0m-\u001b[1;36m01\u001b[0m-\u001b[1;36m01\u001b[0m \u001b[1;92m00:37:49\u001b[0m              \u001b[1;36m1.0\u001b[0m   \n",
       "\u001b[1;36m3\u001b[0m         \u001b[1;36m1\u001b[0m  \u001b[1;36m2023\u001b[0m-\u001b[1;36m01\u001b[0m-\u001b[1;36m01\u001b[0m \u001b[1;92m00:03:48\u001b[0m   \u001b[1;36m2023\u001b[0m-\u001b[1;36m01\u001b[0m-\u001b[1;36m01\u001b[0m \u001b[1;92m00:13:25\u001b[0m              \u001b[1;36m0.0\u001b[0m   \n",
       "\u001b[1;36m4\u001b[0m         \u001b[1;36m2\u001b[0m  \u001b[1;36m2023\u001b[0m-\u001b[1;36m01\u001b[0m-\u001b[1;36m01\u001b[0m \u001b[1;92m00:10:29\u001b[0m   \u001b[1;36m2023\u001b[0m-\u001b[1;36m01\u001b[0m-\u001b[1;36m01\u001b[0m \u001b[1;92m00:21:19\u001b[0m              \u001b[1;36m1.0\u001b[0m   \n",
       "\n",
       "   trip_distance  RatecodeID store_and_fwd_flag  PULocationID  DOLocationID  \\\n",
       "\u001b[1;36m0\u001b[0m           \u001b[1;36m0.97\u001b[0m         \u001b[1;36m1.0\u001b[0m                  N           \u001b[1;36m161\u001b[0m           \u001b[1;36m141\u001b[0m   \n",
       "\u001b[1;36m1\u001b[0m           \u001b[1;36m1.10\u001b[0m         \u001b[1;36m1.0\u001b[0m                  N            \u001b[1;36m43\u001b[0m           \u001b[1;36m237\u001b[0m   \n",
       "\u001b[1;36m2\u001b[0m           \u001b[1;36m2.51\u001b[0m         \u001b[1;36m1.0\u001b[0m                  N            \u001b[1;36m48\u001b[0m           \u001b[1;36m238\u001b[0m   \n",
       "\u001b[1;36m3\u001b[0m           \u001b[1;36m1.90\u001b[0m         \u001b[1;36m1.0\u001b[0m                  N           \u001b[1;36m138\u001b[0m             \u001b[1;36m7\u001b[0m   \n",
       "\u001b[1;36m4\u001b[0m           \u001b[1;36m1.43\u001b[0m         \u001b[1;36m1.0\u001b[0m                  N           \u001b[1;36m107\u001b[0m            \u001b[1;36m79\u001b[0m   \n",
       "\n",
       "   payment_type  fare_amount  extra  mta_tax  tip_amount  tolls_amount  \\\n",
       "\u001b[1;36m0\u001b[0m             \u001b[1;36m2\u001b[0m          \u001b[1;36m9.3\u001b[0m   \u001b[1;36m1.00\u001b[0m      \u001b[1;36m0.5\u001b[0m        \u001b[1;36m0.00\u001b[0m           \u001b[1;36m0.0\u001b[0m   \n",
       "\u001b[1;36m1\u001b[0m             \u001b[1;36m1\u001b[0m          \u001b[1;36m7.9\u001b[0m   \u001b[1;36m1.00\u001b[0m      \u001b[1;36m0.5\u001b[0m        \u001b[1;36m4.00\u001b[0m           \u001b[1;36m0.0\u001b[0m   \n",
       "\u001b[1;36m2\u001b[0m             \u001b[1;36m1\u001b[0m         \u001b[1;36m14.9\u001b[0m   \u001b[1;36m1.00\u001b[0m      \u001b[1;36m0.5\u001b[0m       \u001b[1;36m15.00\u001b[0m           \u001b[1;36m0.0\u001b[0m   \n",
       "\u001b[1;36m3\u001b[0m             \u001b[1;36m1\u001b[0m         \u001b[1;36m12.1\u001b[0m   \u001b[1;36m7.25\u001b[0m      \u001b[1;36m0.5\u001b[0m        \u001b[1;36m0.00\u001b[0m           \u001b[1;36m0.0\u001b[0m   \n",
       "\u001b[1;36m4\u001b[0m             \u001b[1;36m1\u001b[0m         \u001b[1;36m11.4\u001b[0m   \u001b[1;36m1.00\u001b[0m      \u001b[1;36m0.5\u001b[0m        \u001b[1;36m3.28\u001b[0m           \u001b[1;36m0.0\u001b[0m   \n",
       "\n",
       "   improvement_surcharge  total_amount  congestion_surcharge  airport_fee  \n",
       "\u001b[1;36m0\u001b[0m                    \u001b[1;36m1.0\u001b[0m         \u001b[1;36m14.30\u001b[0m                   \u001b[1;36m2.5\u001b[0m         \u001b[1;36m0.00\u001b[0m  \n",
       "\u001b[1;36m1\u001b[0m                    \u001b[1;36m1.0\u001b[0m         \u001b[1;36m16.90\u001b[0m                   \u001b[1;36m2.5\u001b[0m         \u001b[1;36m0.00\u001b[0m  \n",
       "\u001b[1;36m2\u001b[0m                    \u001b[1;36m1.0\u001b[0m         \u001b[1;36m34.90\u001b[0m                   \u001b[1;36m2.5\u001b[0m         \u001b[1;36m0.00\u001b[0m  \n",
       "\u001b[1;36m3\u001b[0m                    \u001b[1;36m1.0\u001b[0m         \u001b[1;36m20.85\u001b[0m                   \u001b[1;36m0.0\u001b[0m         \u001b[1;36m1.25\u001b[0m  \n",
       "\u001b[1;36m4\u001b[0m                    \u001b[1;36m1.0\u001b[0m         \u001b[1;36m19.68\u001b[0m                   \u001b[1;36m2.5\u001b[0m         \u001b[1;36m0.00\u001b[0m  "
      ]
     },
     "execution_count": 17,
     "metadata": {},
     "output_type": "execute_result"
    }
   ],
   "source": [
    "data.head()"
   ]
  },
  {
   "cell_type": "markdown",
   "id": "d191b890",
   "metadata": {},
   "source": [
    "## Overwrite data"
   ]
  },
  {
   "cell_type": "code",
   "execution_count": 18,
   "id": "cc3edc40",
   "metadata": {},
   "outputs": [
    {
     "data": {
      "text/html": [
       "<pre style=\"white-space:pre;overflow-x:auto;line-height:normal;font-family:Menlo,'DejaVu Sans Mono',consolas,'Courier New',monospace\"></pre>\n"
      ],
      "text/plain": []
     },
     "metadata": {},
     "output_type": "display_data"
    },
    {
     "data": {
      "text/plain": [
       "\u001b[1;36m1\u001b[0m"
      ]
     },
     "execution_count": 18,
     "metadata": {},
     "output_type": "execute_result"
    }
   ],
   "source": [
    "dataset._table.last_sequence_number"
   ]
  },
  {
   "cell_type": "code",
   "execution_count": 19,
   "id": "2207c743",
   "metadata": {},
   "outputs": [
    {
     "name": "stderr",
     "output_type": "stream",
     "text": [
      "Iceberg does not yet support 'ns' timestamp precision. Downcasting to 'us'.\n",
      "Iceberg does not yet support 'ns' timestamp precision. Downcasting to 'us'.\n",
      "Iceberg does not yet support 'ns' timestamp precision. Downcasting to 'us'.\n",
      "Iceberg does not yet support 'ns' timestamp precision. Downcasting to 'us'.\n",
      "/Users/Nok_Lam_Chan/miniconda3/envs/kedro/lib/python3.10/site-packages/pyiceberg/utils/deprecated.py:54: DeprecationWarning: Deprecated in 0.8.0, will be removed in 0.9.0. Table.identifier property is deprecated. Please use Table.name() function instead.\n",
      "  _deprecation_warning(deprecation_notice(deprecated_in, removed_in, help_message))\n",
      "/Users/Nok_Lam_Chan/miniconda3/envs/kedro/lib/python3.10/site-packages/pyiceberg/utils/deprecated.py:54: DeprecationWarning: Deprecated in 0.8.0, will be removed in 0.9.0. Support for parsing catalog level identifier in Catalog identifiers is deprecated. Please refer to the table using only its namespace and its table name.\n",
      "  _deprecation_warning(deprecation_notice(deprecated_in, removed_in, help_message))\n",
      "/Users/Nok_Lam_Chan/miniconda3/envs/kedro/lib/python3.10/site-packages/pyiceberg/utils/deprecated.py:54: DeprecationWarning: Deprecated in 0.8.0, will be removed in 0.9.0. Table.identifier property is deprecated. Please use Table.name() function instead.\n",
      "  _deprecation_warning(deprecation_notice(deprecated_in, removed_in, help_message))\n"
     ]
    }
   ],
   "source": [
    "dataset.save(data)"
   ]
  },
  {
   "cell_type": "code",
   "execution_count": 20,
   "id": "191fa977",
   "metadata": {},
   "outputs": [
    {
     "data": {
      "text/html": [
       "<pre style=\"white-space:pre;overflow-x:auto;line-height:normal;font-family:Menlo,'DejaVu Sans Mono',consolas,'Courier New',monospace\"></pre>\n"
      ],
      "text/plain": []
     },
     "metadata": {},
     "output_type": "display_data"
    },
    {
     "data": {
      "text/plain": [
       "\u001b[1;36m3\u001b[0m"
      ]
     },
     "execution_count": 20,
     "metadata": {},
     "output_type": "execute_result"
    }
   ],
   "source": [
    "dataset._table.last_sequence_number"
   ]
  },
  {
   "cell_type": "markdown",
   "id": "7a61d380",
   "metadata": {},
   "source": [
    "Interestingly, the sequence number increase by 2 instead of 1. After some investigation, I couldn't find any documentation that explains this in details. But there are some hints in this docstring of `overwrite` method.\n",
    "\n",
    "```md\n",
    "        Shorthand for overwriting the table with a PyArrow table.\n",
    "\n",
    "        An overwrite may produce zero or more snapshots based on the operation:\n",
    "\n",
    "            - DELETE: In case existing Parquet files can be dropped completely.\n",
    "            - REPLACE: In case existing Parquet files need to be rewritten.\n",
    "            - APPEND: In case new data is being inserted into the table.\n",
    "```\n",
    "\n",
    "In this case, it seems to perform two operations `DELETE` and `APPEND`, thus two snapshots. We can inspect the snapshot history."
   ]
  },
  {
   "cell_type": "markdown",
   "id": "efa5c05e",
   "metadata": {},
   "source": [
    "## Inspecting Snapshots"
   ]
  },
  {
   "cell_type": "code",
   "execution_count": 21,
   "id": "fd4578d4",
   "metadata": {},
   "outputs": [
    {
     "data": {
      "text/html": [
       "<pre style=\"white-space:pre;overflow-x:auto;line-height:normal;font-family:Menlo,'DejaVu Sans Mono',consolas,'Courier New',monospace\"></pre>\n"
      ],
      "text/plain": []
     },
     "metadata": {},
     "output_type": "display_data"
    },
    {
     "data": {
      "text/plain": [
       "\n",
       "\u001b[1m[\u001b[0m\n",
       "    \u001b[1;35mSnapshot\u001b[0m\u001b[1m(\u001b[0m\n",
       "        \u001b[33msnapshot_id\u001b[0m=\u001b[1;36m7841752524588546086\u001b[0m,\n",
       "        \u001b[33mparent_snapshot_id\u001b[0m=\u001b[3;35mNone\u001b[0m,\n",
       "        \u001b[33msequence_number\u001b[0m=\u001b[1;36m1\u001b[0m,\n",
       "        \u001b[33mtimestamp_ms\u001b[0m=\u001b[1;36m1732274297944\u001b[0m,\n",
       "        \u001b[33mmanifest_list\u001b[0m=\u001b[32m'file://tmp/warehouse/default.db/taxi_dataset/metadata/snap-7841752524588546086-0-fecbe5f5-9fbd-4dca-9bcc-a775c57166a1.avro'\u001b[0m,\n",
       "        \u001b[33msummary\u001b[0m=\u001b[1;35mSummary\u001b[0m\u001b[1m(\u001b[0m\u001b[33moperation\u001b[0m=\u001b[35mOperation\u001b[0m.APPEND\u001b[1m)\u001b[0m,\n",
       "        \u001b[33mschema_id\u001b[0m=\u001b[1;36m0\u001b[0m\n",
       "    \u001b[1m)\u001b[0m,\n",
       "    \u001b[1;35mSnapshot\u001b[0m\u001b[1m(\u001b[0m\n",
       "        \u001b[33msnapshot_id\u001b[0m=\u001b[1;36m651915520631835796\u001b[0m,\n",
       "        \u001b[33mparent_snapshot_id\u001b[0m=\u001b[1;36m7841752524588546086\u001b[0m,\n",
       "        \u001b[33msequence_number\u001b[0m=\u001b[1;36m2\u001b[0m,\n",
       "        \u001b[33mtimestamp_ms\u001b[0m=\u001b[1;36m1732275203862\u001b[0m,\n",
       "        \u001b[33mmanifest_list\u001b[0m=\u001b[32m'file://tmp/warehouse/default.db/taxi_dataset/metadata/snap-651915520631835796-0-2e76d850-273f-4910-a93c-90230bbae066.avro'\u001b[0m,\n",
       "        \u001b[33msummary\u001b[0m=\u001b[1;35mSummary\u001b[0m\u001b[1m(\u001b[0m\u001b[33moperation\u001b[0m=\u001b[35mOperation\u001b[0m.DELETE\u001b[1m)\u001b[0m,\n",
       "        \u001b[33mschema_id\u001b[0m=\u001b[1;36m0\u001b[0m\n",
       "    \u001b[1m)\u001b[0m,\n",
       "    \u001b[1;35mSnapshot\u001b[0m\u001b[1m(\u001b[0m\n",
       "        \u001b[33msnapshot_id\u001b[0m=\u001b[1;36m5751889189087713943\u001b[0m,\n",
       "        \u001b[33mparent_snapshot_id\u001b[0m=\u001b[1;36m651915520631835796\u001b[0m,\n",
       "        \u001b[33msequence_number\u001b[0m=\u001b[1;36m3\u001b[0m,\n",
       "        \u001b[33mtimestamp_ms\u001b[0m=\u001b[1;36m1732275204580\u001b[0m,\n",
       "        \u001b[33mmanifest_list\u001b[0m=\u001b[32m'file://tmp/warehouse/default.db/taxi_dataset/metadata/snap-5751889189087713943-0-dc5dd1d5-80fd-417d-b32c-bae0701b7be7.avro'\u001b[0m,\n",
       "        \u001b[33msummary\u001b[0m=\u001b[1;35mSummary\u001b[0m\u001b[1m(\u001b[0m\u001b[33moperation\u001b[0m=\u001b[35mOperation\u001b[0m.APPEND\u001b[1m)\u001b[0m,\n",
       "        \u001b[33mschema_id\u001b[0m=\u001b[1;36m0\u001b[0m\n",
       "    \u001b[1m)\u001b[0m\n",
       "\u001b[1m]\u001b[0m"
      ]
     },
     "execution_count": 21,
     "metadata": {},
     "output_type": "execute_result"
    }
   ],
   "source": [
    "dataset._table.snapshots()"
   ]
  },
  {
   "cell_type": "markdown",
   "id": "37402e70",
   "metadata": {},
   "source": [
    "You can see that there are consecutive snapshots like this. Now let's load the data to confirm this.\n",
    "```\n",
    "summary=Summary(operation=Operation.DELETE),\n",
    "summary=Summary(operation=Operation.APPEND),\n",
    "```\n",
    "\n",
    "Let's grab the snapshot_id and load the data."
   ]
  },
  {
   "cell_type": "markdown",
   "id": "9bf75910",
   "metadata": {},
   "source": [
    "## Load Iceberg table with snapshot_id"
   ]
  },
  {
   "cell_type": "code",
   "execution_count": 30,
   "id": "591a05d3",
   "metadata": {},
   "outputs": [
    {
     "data": {
      "text/html": [
       "<pre style=\"white-space:pre;overflow-x:auto;line-height:normal;font-family:Menlo,'DejaVu Sans Mono',consolas,'Courier New',monospace\"></pre>\n"
      ],
      "text/plain": []
     },
     "metadata": {},
     "output_type": "display_data"
    },
    {
     "data": {
      "text/html": [
       "<div>\n",
       "<style scoped>\n",
       "    .dataframe tbody tr th:only-of-type {\n",
       "        vertical-align: middle;\n",
       "    }\n",
       "\n",
       "    .dataframe tbody tr th {\n",
       "        vertical-align: top;\n",
       "    }\n",
       "\n",
       "    .dataframe thead th {\n",
       "        text-align: right;\n",
       "    }\n",
       "</style>\n",
       "<table border=\"1\" class=\"dataframe\">\n",
       "  <thead>\n",
       "    <tr style=\"text-align: right;\">\n",
       "      <th></th>\n",
       "      <th>VendorID</th>\n",
       "      <th>tpep_pickup_datetime</th>\n",
       "      <th>tpep_dropoff_datetime</th>\n",
       "      <th>passenger_count</th>\n",
       "      <th>trip_distance</th>\n",
       "      <th>RatecodeID</th>\n",
       "      <th>store_and_fwd_flag</th>\n",
       "      <th>PULocationID</th>\n",
       "      <th>DOLocationID</th>\n",
       "      <th>payment_type</th>\n",
       "      <th>fare_amount</th>\n",
       "      <th>extra</th>\n",
       "      <th>mta_tax</th>\n",
       "      <th>tip_amount</th>\n",
       "      <th>tolls_amount</th>\n",
       "      <th>improvement_surcharge</th>\n",
       "      <th>total_amount</th>\n",
       "      <th>congestion_surcharge</th>\n",
       "      <th>airport_fee</th>\n",
       "    </tr>\n",
       "  </thead>\n",
       "  <tbody>\n",
       "  </tbody>\n",
       "</table>\n",
       "</div>"
      ],
      "text/plain": [
       "\n",
       "Empty DataFrame\n",
       "Columns: \u001b[1m[\u001b[0mVendorID, tpep_pickup_datetime, tpep_dropoff_datetime, passenger_count, trip_distance, RatecodeID, store_and_fwd_flag, PULocationID, DOLocationID, payment_type, fare_amount, extra, mta_tax, tip_amount, tolls_amount, improvement_surcharge, total_amount, congestion_surcharge, airport_fee\u001b[1m]\u001b[0m\n",
       "Index: \u001b[1m[\u001b[0m\u001b[1m]\u001b[0m"
      ]
     },
     "execution_count": 30,
     "metadata": {},
     "output_type": "execute_result"
    }
   ],
   "source": [
    "_ = dataset._load(snapshot_id=651915520631835796)\n",
    "_"
   ]
  },
  {
   "cell_type": "markdown",
   "id": "b390325e",
   "metadata": {},
   "source": [
    "It looks like an empty table after `DELETE`, let's check the other snapshot."
   ]
  },
  {
   "cell_type": "code",
   "execution_count": 34,
   "id": "0f87d566",
   "metadata": {},
   "outputs": [],
   "source": [
    "_ = dataset._load(snapshot_id=dataset._table.snapshots()[-1].snapshot_id)"
   ]
  },
  {
   "cell_type": "code",
   "execution_count": 35,
   "id": "cebb808d",
   "metadata": {},
   "outputs": [
    {
     "data": {
      "text/html": [
       "<pre style=\"white-space:pre;overflow-x:auto;line-height:normal;font-family:Menlo,'DejaVu Sans Mono',consolas,'Courier New',monospace\"></pre>\n"
      ],
      "text/plain": []
     },
     "metadata": {},
     "output_type": "display_data"
    },
    {
     "data": {
      "text/html": [
       "<div>\n",
       "<style scoped>\n",
       "    .dataframe tbody tr th:only-of-type {\n",
       "        vertical-align: middle;\n",
       "    }\n",
       "\n",
       "    .dataframe tbody tr th {\n",
       "        vertical-align: top;\n",
       "    }\n",
       "\n",
       "    .dataframe thead th {\n",
       "        text-align: right;\n",
       "    }\n",
       "</style>\n",
       "<table border=\"1\" class=\"dataframe\">\n",
       "  <thead>\n",
       "    <tr style=\"text-align: right;\">\n",
       "      <th></th>\n",
       "      <th>VendorID</th>\n",
       "      <th>tpep_pickup_datetime</th>\n",
       "      <th>tpep_dropoff_datetime</th>\n",
       "      <th>passenger_count</th>\n",
       "      <th>trip_distance</th>\n",
       "      <th>RatecodeID</th>\n",
       "      <th>store_and_fwd_flag</th>\n",
       "      <th>PULocationID</th>\n",
       "      <th>DOLocationID</th>\n",
       "      <th>payment_type</th>\n",
       "      <th>fare_amount</th>\n",
       "      <th>extra</th>\n",
       "      <th>mta_tax</th>\n",
       "      <th>tip_amount</th>\n",
       "      <th>tolls_amount</th>\n",
       "      <th>improvement_surcharge</th>\n",
       "      <th>total_amount</th>\n",
       "      <th>congestion_surcharge</th>\n",
       "      <th>airport_fee</th>\n",
       "    </tr>\n",
       "  </thead>\n",
       "  <tbody>\n",
       "    <tr>\n",
       "      <th>0</th>\n",
       "      <td>2</td>\n",
       "      <td>2023-01-01 00:32:10</td>\n",
       "      <td>2023-01-01 00:40:36</td>\n",
       "      <td>1.0</td>\n",
       "      <td>0.97</td>\n",
       "      <td>1.0</td>\n",
       "      <td>N</td>\n",
       "      <td>161</td>\n",
       "      <td>141</td>\n",
       "      <td>2</td>\n",
       "      <td>9.3</td>\n",
       "      <td>1.00</td>\n",
       "      <td>0.5</td>\n",
       "      <td>0.00</td>\n",
       "      <td>0.0</td>\n",
       "      <td>1.0</td>\n",
       "      <td>14.30</td>\n",
       "      <td>2.5</td>\n",
       "      <td>0.00</td>\n",
       "    </tr>\n",
       "    <tr>\n",
       "      <th>1</th>\n",
       "      <td>2</td>\n",
       "      <td>2023-01-01 00:55:08</td>\n",
       "      <td>2023-01-01 01:01:27</td>\n",
       "      <td>1.0</td>\n",
       "      <td>1.10</td>\n",
       "      <td>1.0</td>\n",
       "      <td>N</td>\n",
       "      <td>43</td>\n",
       "      <td>237</td>\n",
       "      <td>1</td>\n",
       "      <td>7.9</td>\n",
       "      <td>1.00</td>\n",
       "      <td>0.5</td>\n",
       "      <td>4.00</td>\n",
       "      <td>0.0</td>\n",
       "      <td>1.0</td>\n",
       "      <td>16.90</td>\n",
       "      <td>2.5</td>\n",
       "      <td>0.00</td>\n",
       "    </tr>\n",
       "    <tr>\n",
       "      <th>2</th>\n",
       "      <td>2</td>\n",
       "      <td>2023-01-01 00:25:04</td>\n",
       "      <td>2023-01-01 00:37:49</td>\n",
       "      <td>1.0</td>\n",
       "      <td>2.51</td>\n",
       "      <td>1.0</td>\n",
       "      <td>N</td>\n",
       "      <td>48</td>\n",
       "      <td>238</td>\n",
       "      <td>1</td>\n",
       "      <td>14.9</td>\n",
       "      <td>1.00</td>\n",
       "      <td>0.5</td>\n",
       "      <td>15.00</td>\n",
       "      <td>0.0</td>\n",
       "      <td>1.0</td>\n",
       "      <td>34.90</td>\n",
       "      <td>2.5</td>\n",
       "      <td>0.00</td>\n",
       "    </tr>\n",
       "    <tr>\n",
       "      <th>3</th>\n",
       "      <td>1</td>\n",
       "      <td>2023-01-01 00:03:48</td>\n",
       "      <td>2023-01-01 00:13:25</td>\n",
       "      <td>0.0</td>\n",
       "      <td>1.90</td>\n",
       "      <td>1.0</td>\n",
       "      <td>N</td>\n",
       "      <td>138</td>\n",
       "      <td>7</td>\n",
       "      <td>1</td>\n",
       "      <td>12.1</td>\n",
       "      <td>7.25</td>\n",
       "      <td>0.5</td>\n",
       "      <td>0.00</td>\n",
       "      <td>0.0</td>\n",
       "      <td>1.0</td>\n",
       "      <td>20.85</td>\n",
       "      <td>0.0</td>\n",
       "      <td>1.25</td>\n",
       "    </tr>\n",
       "    <tr>\n",
       "      <th>4</th>\n",
       "      <td>2</td>\n",
       "      <td>2023-01-01 00:10:29</td>\n",
       "      <td>2023-01-01 00:21:19</td>\n",
       "      <td>1.0</td>\n",
       "      <td>1.43</td>\n",
       "      <td>1.0</td>\n",
       "      <td>N</td>\n",
       "      <td>107</td>\n",
       "      <td>79</td>\n",
       "      <td>1</td>\n",
       "      <td>11.4</td>\n",
       "      <td>1.00</td>\n",
       "      <td>0.5</td>\n",
       "      <td>3.28</td>\n",
       "      <td>0.0</td>\n",
       "      <td>1.0</td>\n",
       "      <td>19.68</td>\n",
       "      <td>2.5</td>\n",
       "      <td>0.00</td>\n",
       "    </tr>\n",
       "  </tbody>\n",
       "</table>\n",
       "</div>"
      ],
      "text/plain": [
       "\n",
       "   VendorID tpep_pickup_datetime tpep_dropoff_datetime  passenger_count  \\\n",
       "\u001b[1;36m0\u001b[0m         \u001b[1;36m2\u001b[0m  \u001b[1;36m2023\u001b[0m-\u001b[1;36m01\u001b[0m-\u001b[1;36m01\u001b[0m \u001b[1;92m00:32:10\u001b[0m   \u001b[1;36m2023\u001b[0m-\u001b[1;36m01\u001b[0m-\u001b[1;36m01\u001b[0m \u001b[1;92m00:40:36\u001b[0m              \u001b[1;36m1.0\u001b[0m   \n",
       "\u001b[1;36m1\u001b[0m         \u001b[1;36m2\u001b[0m  \u001b[1;36m2023\u001b[0m-\u001b[1;36m01\u001b[0m-\u001b[1;36m01\u001b[0m \u001b[1;92m00:55:08\u001b[0m   \u001b[1;36m2023\u001b[0m-\u001b[1;36m01\u001b[0m-\u001b[1;36m01\u001b[0m \u001b[1;92m01:01:27\u001b[0m              \u001b[1;36m1.0\u001b[0m   \n",
       "\u001b[1;36m2\u001b[0m         \u001b[1;36m2\u001b[0m  \u001b[1;36m2023\u001b[0m-\u001b[1;36m01\u001b[0m-\u001b[1;36m01\u001b[0m \u001b[1;92m00:25:04\u001b[0m   \u001b[1;36m2023\u001b[0m-\u001b[1;36m01\u001b[0m-\u001b[1;36m01\u001b[0m \u001b[1;92m00:37:49\u001b[0m              \u001b[1;36m1.0\u001b[0m   \n",
       "\u001b[1;36m3\u001b[0m         \u001b[1;36m1\u001b[0m  \u001b[1;36m2023\u001b[0m-\u001b[1;36m01\u001b[0m-\u001b[1;36m01\u001b[0m \u001b[1;92m00:03:48\u001b[0m   \u001b[1;36m2023\u001b[0m-\u001b[1;36m01\u001b[0m-\u001b[1;36m01\u001b[0m \u001b[1;92m00:13:25\u001b[0m              \u001b[1;36m0.0\u001b[0m   \n",
       "\u001b[1;36m4\u001b[0m         \u001b[1;36m2\u001b[0m  \u001b[1;36m2023\u001b[0m-\u001b[1;36m01\u001b[0m-\u001b[1;36m01\u001b[0m \u001b[1;92m00:10:29\u001b[0m   \u001b[1;36m2023\u001b[0m-\u001b[1;36m01\u001b[0m-\u001b[1;36m01\u001b[0m \u001b[1;92m00:21:19\u001b[0m              \u001b[1;36m1.0\u001b[0m   \n",
       "\n",
       "   trip_distance  RatecodeID store_and_fwd_flag  PULocationID  DOLocationID  \\\n",
       "\u001b[1;36m0\u001b[0m           \u001b[1;36m0.97\u001b[0m         \u001b[1;36m1.0\u001b[0m                  N           \u001b[1;36m161\u001b[0m           \u001b[1;36m141\u001b[0m   \n",
       "\u001b[1;36m1\u001b[0m           \u001b[1;36m1.10\u001b[0m         \u001b[1;36m1.0\u001b[0m                  N            \u001b[1;36m43\u001b[0m           \u001b[1;36m237\u001b[0m   \n",
       "\u001b[1;36m2\u001b[0m           \u001b[1;36m2.51\u001b[0m         \u001b[1;36m1.0\u001b[0m                  N            \u001b[1;36m48\u001b[0m           \u001b[1;36m238\u001b[0m   \n",
       "\u001b[1;36m3\u001b[0m           \u001b[1;36m1.90\u001b[0m         \u001b[1;36m1.0\u001b[0m                  N           \u001b[1;36m138\u001b[0m             \u001b[1;36m7\u001b[0m   \n",
       "\u001b[1;36m4\u001b[0m           \u001b[1;36m1.43\u001b[0m         \u001b[1;36m1.0\u001b[0m                  N           \u001b[1;36m107\u001b[0m            \u001b[1;36m79\u001b[0m   \n",
       "\n",
       "   payment_type  fare_amount  extra  mta_tax  tip_amount  tolls_amount  \\\n",
       "\u001b[1;36m0\u001b[0m             \u001b[1;36m2\u001b[0m          \u001b[1;36m9.3\u001b[0m   \u001b[1;36m1.00\u001b[0m      \u001b[1;36m0.5\u001b[0m        \u001b[1;36m0.00\u001b[0m           \u001b[1;36m0.0\u001b[0m   \n",
       "\u001b[1;36m1\u001b[0m             \u001b[1;36m1\u001b[0m          \u001b[1;36m7.9\u001b[0m   \u001b[1;36m1.00\u001b[0m      \u001b[1;36m0.5\u001b[0m        \u001b[1;36m4.00\u001b[0m           \u001b[1;36m0.0\u001b[0m   \n",
       "\u001b[1;36m2\u001b[0m             \u001b[1;36m1\u001b[0m         \u001b[1;36m14.9\u001b[0m   \u001b[1;36m1.00\u001b[0m      \u001b[1;36m0.5\u001b[0m       \u001b[1;36m15.00\u001b[0m           \u001b[1;36m0.0\u001b[0m   \n",
       "\u001b[1;36m3\u001b[0m             \u001b[1;36m1\u001b[0m         \u001b[1;36m12.1\u001b[0m   \u001b[1;36m7.25\u001b[0m      \u001b[1;36m0.5\u001b[0m        \u001b[1;36m0.00\u001b[0m           \u001b[1;36m0.0\u001b[0m   \n",
       "\u001b[1;36m4\u001b[0m             \u001b[1;36m1\u001b[0m         \u001b[1;36m11.4\u001b[0m   \u001b[1;36m1.00\u001b[0m      \u001b[1;36m0.5\u001b[0m        \u001b[1;36m3.28\u001b[0m           \u001b[1;36m0.0\u001b[0m   \n",
       "\n",
       "   improvement_surcharge  total_amount  congestion_surcharge  airport_fee  \n",
       "\u001b[1;36m0\u001b[0m                    \u001b[1;36m1.0\u001b[0m         \u001b[1;36m14.30\u001b[0m                   \u001b[1;36m2.5\u001b[0m         \u001b[1;36m0.00\u001b[0m  \n",
       "\u001b[1;36m1\u001b[0m                    \u001b[1;36m1.0\u001b[0m         \u001b[1;36m16.90\u001b[0m                   \u001b[1;36m2.5\u001b[0m         \u001b[1;36m0.00\u001b[0m  \n",
       "\u001b[1;36m2\u001b[0m                    \u001b[1;36m1.0\u001b[0m         \u001b[1;36m34.90\u001b[0m                   \u001b[1;36m2.5\u001b[0m         \u001b[1;36m0.00\u001b[0m  \n",
       "\u001b[1;36m3\u001b[0m                    \u001b[1;36m1.0\u001b[0m         \u001b[1;36m20.85\u001b[0m                   \u001b[1;36m0.0\u001b[0m         \u001b[1;36m1.25\u001b[0m  \n",
       "\u001b[1;36m4\u001b[0m                    \u001b[1;36m1.0\u001b[0m         \u001b[1;36m19.68\u001b[0m                   \u001b[1;36m2.5\u001b[0m         \u001b[1;36m0.00\u001b[0m  "
      ]
     },
     "execution_count": 35,
     "metadata": {},
     "output_type": "execute_result"
    }
   ],
   "source": [
    "_.head()"
   ]
  },
  {
   "cell_type": "markdown",
   "id": "9f1f8716",
   "metadata": {},
   "source": [
    "## Use Tag/Branch for versioning\n"
   ]
  },
  {
   "cell_type": "code",
   "execution_count": 36,
   "id": "ed37201b",
   "metadata": {},
   "outputs": [],
   "source": [
    "t = dataset._table"
   ]
  },
  {
   "cell_type": "code",
   "execution_count": 37,
   "id": "f186cf86",
   "metadata": {},
   "outputs": [
    {
     "name": "stdout",
     "output_type": "stream",
     "text": [
      "\u001b[0;31mSignature:\u001b[0m\n",
      "\u001b[0mt\u001b[0m\u001b[0;34m.\u001b[0m\u001b[0mscan\u001b[0m\u001b[0;34m(\u001b[0m\u001b[0;34m\u001b[0m\n",
      "\u001b[0;34m\u001b[0m    \u001b[0mrow_filter\u001b[0m\u001b[0;34m:\u001b[0m \u001b[0;34m'Union[str, BooleanExpression]'\u001b[0m \u001b[0;34m=\u001b[0m \u001b[0mAlwaysTrue\u001b[0m\u001b[0;34m(\u001b[0m\u001b[0;34m)\u001b[0m\u001b[0;34m,\u001b[0m\u001b[0;34m\u001b[0m\n",
      "\u001b[0;34m\u001b[0m    \u001b[0mselected_fields\u001b[0m\u001b[0;34m:\u001b[0m \u001b[0;34m'Tuple[str, ...]'\u001b[0m \u001b[0;34m=\u001b[0m \u001b[0;34m(\u001b[0m\u001b[0;34m'*'\u001b[0m\u001b[0;34m,\u001b[0m\u001b[0;34m)\u001b[0m\u001b[0;34m,\u001b[0m\u001b[0;34m\u001b[0m\n",
      "\u001b[0;34m\u001b[0m    \u001b[0mcase_sensitive\u001b[0m\u001b[0;34m:\u001b[0m \u001b[0;34m'bool'\u001b[0m \u001b[0;34m=\u001b[0m \u001b[0;32mTrue\u001b[0m\u001b[0;34m,\u001b[0m\u001b[0;34m\u001b[0m\n",
      "\u001b[0;34m\u001b[0m    \u001b[0msnapshot_id\u001b[0m\u001b[0;34m:\u001b[0m \u001b[0;34m'Optional[int]'\u001b[0m \u001b[0;34m=\u001b[0m \u001b[0;32mNone\u001b[0m\u001b[0;34m,\u001b[0m\u001b[0;34m\u001b[0m\n",
      "\u001b[0;34m\u001b[0m    \u001b[0moptions\u001b[0m\u001b[0;34m:\u001b[0m \u001b[0;34m'Properties'\u001b[0m \u001b[0;34m=\u001b[0m \u001b[0;34m{\u001b[0m\u001b[0;34m}\u001b[0m\u001b[0;34m,\u001b[0m\u001b[0;34m\u001b[0m\n",
      "\u001b[0;34m\u001b[0m    \u001b[0mlimit\u001b[0m\u001b[0;34m:\u001b[0m \u001b[0;34m'Optional[int]'\u001b[0m \u001b[0;34m=\u001b[0m \u001b[0;32mNone\u001b[0m\u001b[0;34m,\u001b[0m\u001b[0;34m\u001b[0m\n",
      "\u001b[0;34m\u001b[0m\u001b[0;34m)\u001b[0m \u001b[0;34m->\u001b[0m \u001b[0;34m'DataScan'\u001b[0m\u001b[0;34m\u001b[0m\u001b[0;34m\u001b[0m\u001b[0m\n",
      "\u001b[0;31mDocstring:\u001b[0m\n",
      "Fetch a DataScan based on the table's current metadata.\n",
      "\n",
      "    The data scan can be used to project the table's data\n",
      "    that matches the provided row_filter onto the table's\n",
      "    current schema.\n",
      "\n",
      "Args:\n",
      "    row_filter:\n",
      "        A string or BooleanExpression that decsribes the\n",
      "        desired rows\n",
      "    selected_fileds:\n",
      "        A tuple of strings representing the column names\n",
      "        to return in the output dataframe.\n",
      "    case_sensitive:\n",
      "        If True column matching is case sensitive\n",
      "    snapshot_id:\n",
      "        Optional Snapshot ID to time travel to. If None,\n",
      "        scans the table as of the current snapshot ID.\n",
      "    options:\n",
      "        Additional Table properties as a dictionary of\n",
      "        string key value pairs to use for this scan.\n",
      "    limit:\n",
      "        An integer representing the number of rows to\n",
      "        return in the scan result. If None, fetches all\n",
      "        matching rows.\n",
      "\n",
      "Returns:\n",
      "    A DataScan based on the table's current metadata.\n",
      "\u001b[0;31mFile:\u001b[0m      ~/miniconda3/envs/kedro/lib/python3.10/site-packages/pyiceberg/table/__init__.py\n",
      "\u001b[0;31mType:\u001b[0m      method"
     ]
    }
   ],
   "source": [
    "t.scan?"
   ]
  },
  {
   "cell_type": "code",
   "execution_count": 334,
   "id": "34cd42bf",
   "metadata": {},
   "outputs": [],
   "source": [
    "# Tags fits Kedro versioning better so I use tags instead of branch here\n",
    "table = dataset._table"
   ]
  },
  {
   "cell_type": "code",
   "execution_count": 344,
   "id": "2affd462",
   "metadata": {},
   "outputs": [],
   "source": [
    "s = table.manage_snapshots()\n",
    "(\n",
    "    s.create_tag(\n",
    "        snapshot_id=table.current_snapshot().snapshot_id, tag_name=\"2024-11-21\"\n",
    "    ).create_tag(snapshot_id=table.snapshots()[0].snapshot_id, tag_name=\"2024-11-20\")\n",
    "    .commit()\n",
    ")\n",
    "# Use the first snapshot as an \"older\" version"
   ]
  },
  {
   "cell_type": "code",
   "execution_count": 346,
   "id": "e9341042",
   "metadata": {},
   "outputs": [
    {
     "data": {
      "text/html": [
       "<pre style=\"white-space:pre;overflow-x:auto;line-height:normal;font-family:Menlo,'DejaVu Sans Mono',consolas,'Courier New',monospace\"></pre>\n"
      ],
      "text/plain": []
     },
     "metadata": {},
     "output_type": "display_data"
    },
    {
     "data": {
      "text/plain": [
       "\u001b[1m<\u001b[0m\u001b[1;95mclass\u001b[0m\u001b[39m \u001b[0m\u001b[32m'pyiceberg.table.snapshots.Snapshot'\u001b[0m\u001b[1m>\u001b[0m"
      ]
     },
     "execution_count": 346,
     "metadata": {},
     "output_type": "execute_result"
    }
   ],
   "source": [
    "snapshot = table.snapshot_by_name(\"2024-11-21\")\n",
    "type(snapshot)"
   ]
  },
  {
   "cell_type": "code",
   "execution_count": 348,
   "id": "90d37887",
   "metadata": {},
   "outputs": [
    {
     "ename": "ValueError",
     "evalue": "Snapshot not found: Operation.APPEND: id=1188167320489258665, parent_id=6828333843454423456, schema_id=0",
     "output_type": "error",
     "traceback": [
      "\u001b[0;31m---------------------------------------------------------------------------\u001b[0m",
      "\u001b[0;31mValueError\u001b[0m                                Traceback (most recent call last)",
      "Cell \u001b[0;32mIn[348], line 1\u001b[0m\n\u001b[0;32m----> 1\u001b[0m \u001b[43mtable\u001b[49m\u001b[38;5;241;43m.\u001b[39;49m\u001b[43mscan\u001b[49m\u001b[43m(\u001b[49m\u001b[43msnapshot_id\u001b[49m\u001b[38;5;241;43m=\u001b[39;49m\u001b[43mtable\u001b[49m\u001b[38;5;241;43m.\u001b[39;49m\u001b[43msnapshot_by_name\u001b[49m\u001b[43m(\u001b[49m\u001b[38;5;124;43m\"\u001b[39;49m\u001b[38;5;124;43m2024-11-21\u001b[39;49m\u001b[38;5;124;43m\"\u001b[39;49m\u001b[43m)\u001b[49m\u001b[43m)\u001b[49m\u001b[38;5;241;43m.\u001b[39;49m\u001b[43mto_arrow\u001b[49m\u001b[43m(\u001b[49m\u001b[43m)\u001b[49m\n",
      "File \u001b[0;32m~/miniconda3/envs/kedro/lib/python3.10/site-packages/pyiceberg/table/__init__.py:2022\u001b[0m, in \u001b[0;36mDataScan.to_arrow\u001b[0;34m(self)\u001b[0m\n\u001b[1;32m   2014\u001b[0m \u001b[38;5;28;01mdef\u001b[39;00m \u001b[38;5;21mto_arrow\u001b[39m(\u001b[38;5;28mself\u001b[39m) \u001b[38;5;241m-\u001b[39m\u001b[38;5;241m>\u001b[39m pa\u001b[38;5;241m.\u001b[39mTable:\n\u001b[1;32m   2015\u001b[0m     \u001b[38;5;28;01mfrom\u001b[39;00m \u001b[38;5;21;01mpyiceberg\u001b[39;00m\u001b[38;5;21;01m.\u001b[39;00m\u001b[38;5;21;01mio\u001b[39;00m\u001b[38;5;21;01m.\u001b[39;00m\u001b[38;5;21;01mpyarrow\u001b[39;00m \u001b[38;5;28;01mimport\u001b[39;00m project_table\n\u001b[1;32m   2017\u001b[0m     \u001b[38;5;28;01mreturn\u001b[39;00m project_table(\n\u001b[1;32m   2018\u001b[0m         \u001b[38;5;28mself\u001b[39m\u001b[38;5;241m.\u001b[39mplan_files(),\n\u001b[1;32m   2019\u001b[0m         \u001b[38;5;28mself\u001b[39m\u001b[38;5;241m.\u001b[39mtable_metadata,\n\u001b[1;32m   2020\u001b[0m         \u001b[38;5;28mself\u001b[39m\u001b[38;5;241m.\u001b[39mio,\n\u001b[1;32m   2021\u001b[0m         \u001b[38;5;28mself\u001b[39m\u001b[38;5;241m.\u001b[39mrow_filter,\n\u001b[0;32m-> 2022\u001b[0m         \u001b[38;5;28;43mself\u001b[39;49m\u001b[38;5;241;43m.\u001b[39;49m\u001b[43mprojection\u001b[49m\u001b[43m(\u001b[49m\u001b[43m)\u001b[49m,\n\u001b[1;32m   2023\u001b[0m         case_sensitive\u001b[38;5;241m=\u001b[39m\u001b[38;5;28mself\u001b[39m\u001b[38;5;241m.\u001b[39mcase_sensitive,\n\u001b[1;32m   2024\u001b[0m         limit\u001b[38;5;241m=\u001b[39m\u001b[38;5;28mself\u001b[39m\u001b[38;5;241m.\u001b[39mlimit,\n\u001b[1;32m   2025\u001b[0m     )\n",
      "File \u001b[0;32m~/miniconda3/envs/kedro/lib/python3.10/site-packages/pyiceberg/table/__init__.py:1789\u001b[0m, in \u001b[0;36mTableScan.projection\u001b[0;34m(self)\u001b[0m\n\u001b[1;32m   1787\u001b[0m                 warnings\u001b[38;5;241m.\u001b[39mwarn(\u001b[38;5;124mf\u001b[39m\u001b[38;5;124m\"\u001b[39m\u001b[38;5;124mMetadata does not contain schema with id: \u001b[39m\u001b[38;5;132;01m{\u001b[39;00msnapshot\u001b[38;5;241m.\u001b[39mschema_id\u001b[38;5;132;01m}\u001b[39;00m\u001b[38;5;124m\"\u001b[39m)\n\u001b[1;32m   1788\u001b[0m     \u001b[38;5;28;01melse\u001b[39;00m:\n\u001b[0;32m-> 1789\u001b[0m         \u001b[38;5;28;01mraise\u001b[39;00m \u001b[38;5;167;01mValueError\u001b[39;00m(\u001b[38;5;124mf\u001b[39m\u001b[38;5;124m\"\u001b[39m\u001b[38;5;124mSnapshot not found: \u001b[39m\u001b[38;5;132;01m{\u001b[39;00m\u001b[38;5;28mself\u001b[39m\u001b[38;5;241m.\u001b[39msnapshot_id\u001b[38;5;132;01m}\u001b[39;00m\u001b[38;5;124m\"\u001b[39m)\n\u001b[1;32m   1791\u001b[0m \u001b[38;5;28;01mif\u001b[39;00m \u001b[38;5;124m\"\u001b[39m\u001b[38;5;124m*\u001b[39m\u001b[38;5;124m\"\u001b[39m \u001b[38;5;129;01min\u001b[39;00m \u001b[38;5;28mself\u001b[39m\u001b[38;5;241m.\u001b[39mselected_fields:\n\u001b[1;32m   1792\u001b[0m     \u001b[38;5;28;01mreturn\u001b[39;00m current_schema\n",
      "\u001b[0;31mValueError\u001b[0m: Snapshot not found: Operation.APPEND: id=1188167320489258665, parent_id=6828333843454423456, schema_id=0"
     ]
    }
   ],
   "source": [
    "table.scan(snapshot_id=table.snapshot_by_name(\"2024-11-21\")).to_arrow()"
   ]
  },
  {
   "cell_type": "code",
   "execution_count": null,
   "id": "5cbc2f9a",
   "metadata": {},
   "outputs": [],
   "source": []
  },
  {
   "cell_type": "code",
   "execution_count": null,
   "id": "bddee17b",
   "metadata": {},
   "outputs": [],
   "source": []
  },
  {
   "cell_type": "code",
   "execution_count": null,
   "id": "a950cf2d",
   "metadata": {},
   "outputs": [],
   "source": [
    "UPDATE\n",
    "col_a from orders where x=1\n",
    "\n",
    "row_filter: = x=1\n",
    "selected_fields = col_a from orders where x=1\n"
   ]
  },
  {
   "cell_type": "code",
   "execution_count": 343,
   "id": "a106f357",
   "metadata": {},
   "outputs": [
    {
     "name": "stdout",
     "output_type": "stream",
     "text": [
      "\u001b[0;31mSignature:\u001b[0m\n",
      "\u001b[0ms\u001b[0m\u001b[0;34m.\u001b[0m\u001b[0mcreate_tag\u001b[0m\u001b[0;34m(\u001b[0m\u001b[0;34m\u001b[0m\n",
      "\u001b[0;34m\u001b[0m    \u001b[0msnapshot_id\u001b[0m\u001b[0;34m:\u001b[0m \u001b[0;34m'int'\u001b[0m\u001b[0;34m,\u001b[0m\u001b[0;34m\u001b[0m\n",
      "\u001b[0;34m\u001b[0m    \u001b[0mtag_name\u001b[0m\u001b[0;34m:\u001b[0m \u001b[0;34m'str'\u001b[0m\u001b[0;34m,\u001b[0m\u001b[0;34m\u001b[0m\n",
      "\u001b[0;34m\u001b[0m    \u001b[0mmax_ref_age_ms\u001b[0m\u001b[0;34m:\u001b[0m \u001b[0;34m'Optional[int]'\u001b[0m \u001b[0;34m=\u001b[0m \u001b[0;32mNone\u001b[0m\u001b[0;34m,\u001b[0m\u001b[0;34m\u001b[0m\n",
      "\u001b[0;34m\u001b[0m\u001b[0;34m)\u001b[0m \u001b[0;34m->\u001b[0m \u001b[0;34m'ManageSnapshots'\u001b[0m\u001b[0;34m\u001b[0m\u001b[0;34m\u001b[0m\u001b[0m\n",
      "\u001b[0;31mSource:\u001b[0m   \n",
      "    \u001b[0;32mdef\u001b[0m \u001b[0mcreate_tag\u001b[0m\u001b[0;34m(\u001b[0m\u001b[0mself\u001b[0m\u001b[0;34m,\u001b[0m \u001b[0msnapshot_id\u001b[0m\u001b[0;34m:\u001b[0m \u001b[0mint\u001b[0m\u001b[0;34m,\u001b[0m \u001b[0mtag_name\u001b[0m\u001b[0;34m:\u001b[0m \u001b[0mstr\u001b[0m\u001b[0;34m,\u001b[0m \u001b[0mmax_ref_age_ms\u001b[0m\u001b[0;34m:\u001b[0m \u001b[0mOptional\u001b[0m\u001b[0;34m[\u001b[0m\u001b[0mint\u001b[0m\u001b[0;34m]\u001b[0m \u001b[0;34m=\u001b[0m \u001b[0;32mNone\u001b[0m\u001b[0;34m)\u001b[0m \u001b[0;34m->\u001b[0m \u001b[0mManageSnapshots\u001b[0m\u001b[0;34m:\u001b[0m\u001b[0;34m\u001b[0m\n",
      "\u001b[0;34m\u001b[0m        \u001b[0;34m\"\"\"\u001b[0m\n",
      "\u001b[0;34m        Create a new tag pointing to the given snapshot id.\u001b[0m\n",
      "\u001b[0;34m\u001b[0m\n",
      "\u001b[0;34m        Args:\u001b[0m\n",
      "\u001b[0;34m            snapshot_id (int): snapshot id of the existing snapshot to tag\u001b[0m\n",
      "\u001b[0;34m            tag_name (str): name of the tag\u001b[0m\n",
      "\u001b[0;34m            max_ref_age_ms (Optional[int]): max ref age in milliseconds\u001b[0m\n",
      "\u001b[0;34m\u001b[0m\n",
      "\u001b[0;34m        Returns:\u001b[0m\n",
      "\u001b[0;34m            This for method chaining\u001b[0m\n",
      "\u001b[0;34m        \"\"\"\u001b[0m\u001b[0;34m\u001b[0m\n",
      "\u001b[0;34m\u001b[0m        \u001b[0mupdate\u001b[0m\u001b[0;34m,\u001b[0m \u001b[0mrequirement\u001b[0m \u001b[0;34m=\u001b[0m \u001b[0mself\u001b[0m\u001b[0;34m.\u001b[0m\u001b[0m_transaction\u001b[0m\u001b[0;34m.\u001b[0m\u001b[0m_set_ref_snapshot\u001b[0m\u001b[0;34m(\u001b[0m\u001b[0;34m\u001b[0m\n",
      "\u001b[0;34m\u001b[0m            \u001b[0msnapshot_id\u001b[0m\u001b[0;34m=\u001b[0m\u001b[0msnapshot_id\u001b[0m\u001b[0;34m,\u001b[0m\u001b[0;34m\u001b[0m\n",
      "\u001b[0;34m\u001b[0m            \u001b[0mref_name\u001b[0m\u001b[0;34m=\u001b[0m\u001b[0mtag_name\u001b[0m\u001b[0;34m,\u001b[0m\u001b[0;34m\u001b[0m\n",
      "\u001b[0;34m\u001b[0m            \u001b[0mtype\u001b[0m\u001b[0;34m=\u001b[0m\u001b[0;34m\"tag\"\u001b[0m\u001b[0;34m,\u001b[0m\u001b[0;34m\u001b[0m\n",
      "\u001b[0;34m\u001b[0m            \u001b[0mmax_ref_age_ms\u001b[0m\u001b[0;34m=\u001b[0m\u001b[0mmax_ref_age_ms\u001b[0m\u001b[0;34m,\u001b[0m\u001b[0;34m\u001b[0m\n",
      "\u001b[0;34m\u001b[0m        \u001b[0;34m)\u001b[0m\u001b[0;34m\u001b[0m\n",
      "\u001b[0;34m\u001b[0m        \u001b[0mself\u001b[0m\u001b[0;34m.\u001b[0m\u001b[0m_updates\u001b[0m \u001b[0;34m+=\u001b[0m \u001b[0mupdate\u001b[0m\u001b[0;34m\u001b[0m\n",
      "\u001b[0;34m\u001b[0m        \u001b[0mself\u001b[0m\u001b[0;34m.\u001b[0m\u001b[0m_requirements\u001b[0m \u001b[0;34m+=\u001b[0m \u001b[0mrequirement\u001b[0m\u001b[0;34m\u001b[0m\n",
      "\u001b[0;34m\u001b[0m        \u001b[0;32mreturn\u001b[0m \u001b[0mself\u001b[0m\u001b[0;34m\u001b[0m\u001b[0;34m\u001b[0m\u001b[0m\n",
      "\u001b[0;31mFile:\u001b[0m      ~/miniconda3/envs/kedro/lib/python3.10/site-packages/pyiceberg/table/__init__.py\n",
      "\u001b[0;31mType:\u001b[0m      method"
     ]
    }
   ],
   "source": [
    "s.create_tag??"
   ]
  },
  {
   "cell_type": "code",
   "execution_count": 338,
   "id": "2e9a2c35",
   "metadata": {},
   "outputs": [
    {
     "data": {
      "text/html": [
       "<pre style=\"white-space:pre;overflow-x:auto;line-height:normal;font-family:Menlo,'DejaVu Sans Mono',consolas,'Courier New',monospace\"></pre>\n"
      ],
      "text/plain": []
     },
     "metadata": {},
     "output_type": "display_data"
    },
    {
     "data": {
      "text/plain": [
       "\n",
       "\u001b[1m{\u001b[0m\n",
       "    \u001b[32m'main'\u001b[0m: \u001b[1;35mSnapshotRef\u001b[0m\u001b[1m(\u001b[0m\n",
       "        \u001b[33msnapshot_id\u001b[0m=\u001b[1;36m1188167320489258665\u001b[0m,\n",
       "        \u001b[33msnapshot_ref_type\u001b[0m=\u001b[35mSnapshotRefType\u001b[0m.BRANCH,\n",
       "        \u001b[33mmin_snapshots_to_keep\u001b[0m=\u001b[3;35mNone\u001b[0m,\n",
       "        \u001b[33mmax_snapshot_age_ms\u001b[0m=\u001b[3;35mNone\u001b[0m,\n",
       "        \u001b[33mmax_ref_age_ms\u001b[0m=\u001b[3;35mNone\u001b[0m\n",
       "    \u001b[1m)\u001b[0m\n",
       "\u001b[1m}\u001b[0m"
      ]
     },
     "execution_count": 338,
     "metadata": {},
     "output_type": "execute_result"
    }
   ],
   "source": [
    "table.metadata.refs"
   ]
  },
  {
   "cell_type": "markdown",
   "id": "58b366e6",
   "metadata": {},
   "source": []
  }
 ],
 "metadata": {
  "kernelspec": {
   "display_name": "kedro",
   "language": "python",
   "name": "python3"
  },
  "language_info": {
   "codemirror_mode": {
    "name": "ipython",
    "version": 3
   },
   "file_extension": ".py",
   "mimetype": "text/x-python",
   "name": "python",
   "nbconvert_exporter": "python",
   "pygments_lexer": "ipython3",
   "version": "3.10.14"
  }
 },
 "nbformat": 4,
 "nbformat_minor": 5
}
