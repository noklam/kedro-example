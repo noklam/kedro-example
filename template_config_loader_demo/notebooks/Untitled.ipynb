{
 "cells": [
  {
   "cell_type": "code",
   "execution_count": 1,
   "id": "e141b6f5",
   "metadata": {},
   "outputs": [
    {
     "data": {
      "text/html": [
       "<pre style=\"white-space:pre;overflow-x:auto;line-height:normal;font-family:Menlo,'DejaVu Sans Mono',consolas,'Courier New',monospace\"><span style=\"color: #7fbfbf; text-decoration-color: #7fbfbf\">[08/30/22 10:24:56] </span><span style=\"color: #800000; text-decoration-color: #800000\">WARNING </span> <span style=\"color: #800080; text-decoration-color: #800080\">/Users/Nok_Lam_Chan/miniconda3/envs/py38/lib/pyt</span> <a href=\"file:///Users/Nok_Lam_Chan/miniconda3/envs/py38/lib/python3.8/warnings.py\" target=\"_blank\"><span style=\"color: #7f7f7f; text-decoration-color: #7f7f7f\">warnings.py</span></a><span style=\"color: #7f7f7f; text-decoration-color: #7f7f7f\">:</span><a href=\"file:///Users/Nok_Lam_Chan/miniconda3/envs/py38/lib/python3.8/warnings.py#109\" target=\"_blank\"><span style=\"color: #7f7f7f; text-decoration-color: #7f7f7f\">109</span></a>\n",
       "<span style=\"color: #7fbfbf; text-decoration-color: #7fbfbf\">                    </span>         <span style=\"color: #800080; text-decoration-color: #800080\">hon3.8/site-packages/IPython/extensions/</span><span style=\"color: #ff00ff; text-decoration-color: #ff00ff\">autorelo</span> <span style=\"color: #7f7f7f; text-decoration-color: #7f7f7f\">               </span>\n",
       "<span style=\"color: #7fbfbf; text-decoration-color: #7fbfbf\">                    </span>         <span style=\"color: #ff00ff; text-decoration-color: #ff00ff\">ad.py</span>:<span style=\"color: #008080; text-decoration-color: #008080; font-weight: bold\">121</span>: DeprecationWarning: the imp module is <span style=\"color: #7f7f7f; text-decoration-color: #7f7f7f\">               </span>\n",
       "<span style=\"color: #7fbfbf; text-decoration-color: #7fbfbf\">                    </span>         deprecated in favour of importlib; see the       <span style=\"color: #7f7f7f; text-decoration-color: #7f7f7f\">               </span>\n",
       "<span style=\"color: #7fbfbf; text-decoration-color: #7fbfbf\">                    </span>         module's documentation for alternative uses      <span style=\"color: #7f7f7f; text-decoration-color: #7f7f7f\">               </span>\n",
       "<span style=\"color: #7fbfbf; text-decoration-color: #7fbfbf\">                    </span>           from imp import reload                         <span style=\"color: #7f7f7f; text-decoration-color: #7f7f7f\">               </span>\n",
       "<span style=\"color: #7fbfbf; text-decoration-color: #7fbfbf\">                    </span>                                                          <span style=\"color: #7f7f7f; text-decoration-color: #7f7f7f\">               </span>\n",
       "</pre>\n"
      ],
      "text/plain": [
       "\u001b[2;36m[08/30/22 10:24:56]\u001b[0m\u001b[2;36m \u001b[0m\u001b[31mWARNING \u001b[0m \u001b[35m/Users/Nok_Lam_Chan/miniconda3/envs/py38/lib/pyt\u001b[0m \u001b]8;id=85279;file:///Users/Nok_Lam_Chan/miniconda3/envs/py38/lib/python3.8/warnings.py\u001b\\\u001b[2mwarnings.py\u001b[0m\u001b]8;;\u001b\\\u001b[2m:\u001b[0m\u001b]8;id=854399;file:///Users/Nok_Lam_Chan/miniconda3/envs/py38/lib/python3.8/warnings.py#109\u001b\\\u001b[2m109\u001b[0m\u001b]8;;\u001b\\\n",
       "\u001b[2;36m                    \u001b[0m         \u001b[35mhon3.8/site-packages/IPython/extensions/\u001b[0m\u001b[95mautorelo\u001b[0m \u001b[2m               \u001b[0m\n",
       "\u001b[2;36m                    \u001b[0m         \u001b[95mad.py\u001b[0m:\u001b[1;36m121\u001b[0m: DeprecationWarning: the imp module is \u001b[2m               \u001b[0m\n",
       "\u001b[2;36m                    \u001b[0m         deprecated in favour of importlib; see the       \u001b[2m               \u001b[0m\n",
       "\u001b[2;36m                    \u001b[0m         module's documentation for alternative uses      \u001b[2m               \u001b[0m\n",
       "\u001b[2;36m                    \u001b[0m           from imp import reload                         \u001b[2m               \u001b[0m\n",
       "\u001b[2;36m                    \u001b[0m                                                          \u001b[2m               \u001b[0m\n"
      ]
     },
     "metadata": {},
     "output_type": "display_data"
    },
    {
     "name": "stdout",
     "output_type": "stream",
     "text": [
      "The kedro.extras.extensions.ipython extension is already loaded. To reload it, use:\n",
      "  %reload_ext kedro.extras.extensions.ipython\n",
      "Catalog: \n",
      "{'example_iris_data': {'type': 'pandas.CSVDataSet', 'filepath': '/Users/Nok_Lam_Chan/dev/kedro_gallery/template_config_loader_demo/data/01_raw/iris.csv'}}\n"
     ]
    }
   ],
   "source": [
    "%load_ext autoreload\n",
    "%autoreload 2\n",
    "%load_ext kedro.extras.extensions.ipython\n",
    "%reload_kedro"
   ]
  },
  {
   "cell_type": "code",
   "execution_count": 7,
   "id": "4b0c6efe",
   "metadata": {},
   "outputs": [],
   "source": [
    "from kedro import *\n",
    "from kedro.framework.session import *"
   ]
  },
  {
   "cell_type": "code",
   "execution_count": 12,
   "id": "434570d7",
   "metadata": {},
   "outputs": [],
   "source": [
    "KedroSession.create??"
   ]
  },
  {
   "cell_type": "code",
   "execution_count": 13,
   "id": "fcac24b7",
   "metadata": {},
   "outputs": [
    {
     "name": "stdout",
     "output_type": "stream",
     "text": [
      "Catalog: \n",
      "{'example_iris_data': {'type': 'pandas.CSVDataSet', 'filepath': '/Users/Nok_Lam_Chan/dev/kedro_gallery/template_config_loader_demo/data/01_raw/iris.csv'}}\n",
      "\n",
      "**************************************************\n",
      "{'env': 'base',\n",
      " 'nested_1': {'nested_2': 100, 'nested_3': 3},\n",
      " 'random_state': 3,\n",
      " 'target_column': 'species',\n",
      " 'train_fraction': 0.8}\n",
      "**************************************************\n",
      "\n"
     ]
    }
   ],
   "source": [
    "with KedroSession.create(project_path=\"../\", \n",
    "                         extra_params={'nested_1':{'nested_2': 100}}\n",
    "                        ) as session:\n",
    "    session.run()\n"
   ]
  },
  {
   "cell_type": "code",
   "execution_count": null,
   "id": "c6994fa9",
   "metadata": {},
   "outputs": [],
   "source": []
  }
 ],
 "metadata": {
  "kernelspec": {
   "display_name": "Kedro (template_config_loader_demo)",
   "language": "python",
   "name": "kedro_template_config_loader_demo"
  },
  "language_info": {
   "codemirror_mode": {
    "name": "ipython",
    "version": 3
   },
   "file_extension": ".py",
   "mimetype": "text/x-python",
   "name": "python",
   "nbconvert_exporter": "python",
   "pygments_lexer": "ipython3",
   "version": "3.8.5"
  },
  "toc": {
   "base_numbering": 1,
   "nav_menu": {},
   "number_sections": true,
   "sideBar": true,
   "skip_h1_title": false,
   "title_cell": "Table of Contents",
   "title_sidebar": "Contents",
   "toc_cell": false,
   "toc_position": {},
   "toc_section_display": true,
   "toc_window_display": false
  }
 },
 "nbformat": 4,
 "nbformat_minor": 5
}
