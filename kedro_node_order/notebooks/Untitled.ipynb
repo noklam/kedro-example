{
 "cells": [
  {
   "cell_type": "code",
   "execution_count": 1,
   "id": "cb465cba",
   "metadata": {},
   "outputs": [
    {
     "data": {
      "text/plain": [
       "(<kedro.io.data_catalog.DataCatalog at 0x7fe8c91f2ca0>,\n",
       " <kedro.io.data_catalog.DataCatalog at 0x7fe8d93a8400>)"
      ]
     },
     "execution_count": 1,
     "metadata": {},
     "output_type": "execute_result"
    }
   ],
   "source": [
    "catalog, context.catalog"
   ]
  },
  {
   "cell_type": "code",
   "execution_count": 2,
   "id": "0ab4a3f7",
   "metadata": {},
   "outputs": [
    {
     "data": {
      "text/plain": [
       "(<kedro.io.data_catalog.DataCatalog at 0x7fe8c91f2ca0>,\n",
       " <kedro.io.data_catalog.DataCatalog at 0x7fe8d93bdac0>)"
      ]
     },
     "execution_count": 2,
     "metadata": {},
     "output_type": "execute_result"
    }
   ],
   "source": [
    "catalog, context.catalog"
   ]
  },
  {
   "cell_type": "code",
   "execution_count": 4,
   "id": "fb6ae76f",
   "metadata": {},
   "outputs": [
    {
     "ename": "AttributeError",
     "evalue": "'KedroSession' object has no attribute 'context'",
     "output_type": "error",
     "traceback": [
      "\u001b[0;31m---------------------------------------------------------------------------\u001b[0m",
      "\u001b[0;31mAttributeError\u001b[0m                            Traceback (most recent call last)",
      "\u001b[0;32m/var/folders/dv/bz0yz1dn71d2hygq110k3xhw0000gp/T/ipykernel_45260/2965911273.py\u001b[0m in \u001b[0;36m<cell line: 1>\u001b[0;34m()\u001b[0m\n\u001b[0;32m----> 1\u001b[0;31m \u001b[0msession\u001b[0m\u001b[0;34m.\u001b[0m\u001b[0mcontext\u001b[0m\u001b[0;34m\u001b[0m\u001b[0;34m\u001b[0m\u001b[0m\n\u001b[0m",
      "\u001b[0;31mAttributeError\u001b[0m: 'KedroSession' object has no attribute 'context'"
     ]
    }
   ],
   "source": [
    "session.con"
   ]
  },
  {
   "cell_type": "code",
   "execution_count": 3,
   "id": "d57a2371",
   "metadata": {},
   "outputs": [
    {
     "ename": "NameError",
     "evalue": "name 'parameters' is not defined",
     "output_type": "error",
     "traceback": [
      "\u001b[0;31m---------------------------------------------------------------------------\u001b[0m",
      "\u001b[0;31mNameError\u001b[0m                                 Traceback (most recent call last)",
      "\u001b[0;32m/var/folders/dv/bz0yz1dn71d2hygq110k3xhw0000gp/T/ipykernel_45260/692586305.py\u001b[0m in \u001b[0;36m<cell line: 1>\u001b[0;34m()\u001b[0m\n\u001b[0;32m----> 1\u001b[0;31m \u001b[0mparameters\u001b[0m\u001b[0;34m\u001b[0m\u001b[0;34m\u001b[0m\u001b[0m\n\u001b[0m",
      "\u001b[0;31mNameError\u001b[0m: name 'parameters' is not defined"
     ]
    }
   ],
   "source": [
    "parameters"
   ]
  },
  {
   "cell_type": "code",
   "execution_count": null,
   "id": "47c311dd",
   "metadata": {},
   "outputs": [],
   "source": [
    "catalog"
   ]
  },
  {
   "cell_type": "code",
   "execution_count": null,
   "id": "1246e633",
   "metadata": {},
   "outputs": [],
   "source": [
    "context.catalog"
   ]
  },
  {
   "cell_type": "code",
   "execution_count": null,
   "id": "4de2496e",
   "metadata": {},
   "outputs": [],
   "source": [
    "context.params=1"
   ]
  },
  {
   "cell_type": "code",
   "execution_count": null,
   "id": "64dcd3d2",
   "metadata": {},
   "outputs": [],
   "source": []
  }
 ],
 "metadata": {
  "kernelspec": {
   "display_name": "kedro_node_order",
   "language": "python",
   "name": "python3"
  },
  "language_info": {
   "codemirror_mode": {
    "name": "ipython",
    "version": 3
   },
   "file_extension": ".py",
   "mimetype": "text/x-python",
   "name": "python",
   "nbconvert_exporter": "python",
   "pygments_lexer": "ipython3",
   "version": "3.8.3"
  }
 },
 "nbformat": 4,
 "nbformat_minor": 5
}
